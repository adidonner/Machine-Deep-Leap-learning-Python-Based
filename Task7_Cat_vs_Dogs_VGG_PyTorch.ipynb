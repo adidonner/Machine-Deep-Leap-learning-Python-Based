{
  "nbformat": 4,
  "nbformat_minor": 0,
  "metadata": {
    "colab": {
      "provenance": [],
      "gpuType": "T4",
      "mount_file_id": "https://github.com/adidonner/Machine-Deep-Leap-learning-Python-Based/blob/main/Task7_Cat_vs_Dogs_VGG_PyTorch.ipynb",
      "authorship_tag": "ABX9TyNaFaDIBY9Um5NhdTzipcoj",
      "include_colab_link": true
    },
    "kernelspec": {
      "name": "python3",
      "display_name": "Python 3"
    },
    "language_info": {
      "name": "python"
    },
    "accelerator": "GPU"
  },
  "cells": [
    {
      "cell_type": "markdown",
      "metadata": {
        "id": "view-in-github",
        "colab_type": "text"
      },
      "source": [
        "<a href=\"https://colab.research.google.com/github/adidonner/Machine-Deep-Leap-learning-Python-Based/blob/main/Task7_Cat_vs_Dogs_VGG_PyTorch.ipynb\" target=\"_parent\"><img src=\"https://colab.research.google.com/assets/colab-badge.svg\" alt=\"Open In Colab\"/></a>"
      ]
    },
    {
      "cell_type": "markdown",
      "source": [
        "Take the code in keras and write it in pytorch:"
      ],
      "metadata": {
        "id": "8vTzgWgEalWX"
      }
    },
    {
      "cell_type": "code",
      "source": [
        "pip install torch torchvision\n"
      ],
      "metadata": {
        "id": "9cAwLh2_aYwL"
      },
      "execution_count": null,
      "outputs": []
    },
    {
      "cell_type": "code",
      "source": [
        "import os\n",
        "import numpy as np\n",
        "import matplotlib.pyplot as plt\n",
        "import torch\n",
        "import torch.nn as nn\n",
        "import torch.optim as optim\n",
        "from torch.utils.data import DataLoader\n",
        "from torchvision import transforms\n",
        "from torchvision.datasets import ImageFolder\n",
        "from torchvision.models import vgg16\n",
        "\n",
        "# Set random seed for reproducibility\n",
        "torch.manual_seed(5)\n",
        "\n",
        "# Data directory\n",
        "directory = '/content/drive/MyDrive/cats_vs_dogs_data'\n",
        "\n",
        "# Data transforms\n",
        "transform = transforms.Compose([\n",
        "    transforms.Resize((150, 150)),\n",
        "    transforms.ToTensor(),\n",
        "])\n",
        "\n",
        "# Load datasets\n",
        "train_dataset = ImageFolder(root=directory, transform=transform)\n",
        "val_dataset = ImageFolder(root=directory, transform=transform)\n",
        "\n",
        "# Split datasets into training and validation sets\n",
        "train_size = int(0.8 * len(train_dataset))\n",
        "val_size = len(train_dataset) - train_size\n",
        "train_dataset, val_dataset = torch.utils.data.random_split(train_dataset, [train_size, val_size])\n",
        "\n",
        "# Data loaders\n",
        "train_loader = DataLoader(train_dataset, batch_size=32, shuffle=True)\n",
        "val_loader = DataLoader(val_dataset, batch_size=32, shuffle=False)\n",
        "\n",
        "# Load pre-trained VGG16 model without top layers\n",
        "base_model = vgg16(pretrained=True)\n",
        "base_model.features = base_model.features[:24]  # Equivalent to Keras base_model.layers[:3]\n",
        "\n",
        "# Freeze the first 3 layers except for fully connected layers and the last one\n",
        "for param in base_model.parameters():\n",
        "    param.requires_grad = False\n",
        "for param in base_model.classifier.parameters():\n",
        "    param.requires_grad = True\n",
        "\n",
        "# Modify the classifier to match Keras model\n",
        "base_model.classifier = nn.Sequential(\n",
        "    nn.Flatten(),\n",
        "    nn.Linear(512 * 7 * 7, 8),  # Fixed number of input features\n",
        "    nn.ReLU(),\n",
        "    nn.Linear(8, 3),\n",
        "    nn.Softmax(dim=1)\n",
        ")\n",
        "\n",
        "# Create the complete model\n",
        "model = base_model\n",
        "\n",
        "# Loss function and optimizer\n",
        "criterion = nn.CrossEntropyLoss()\n",
        "optimizer = optim.Adam(model.parameters(), lr=0.001)\n",
        "\n",
        "# Train the model\n",
        "num_epochs = 10\n",
        "for epoch in range(num_epochs):\n",
        "    model.train()\n",
        "    for inputs, labels in train_loader:\n",
        "        optimizer.zero_grad()\n",
        "        outputs = model(inputs)\n",
        "        loss = criterion(outputs, labels)\n",
        "        loss.backward()\n",
        "        optimizer.step()\n",
        "\n",
        "    # Validation\n",
        "    model.eval()\n",
        "    with torch.no_grad():\n",
        "        val_loss = 0.0\n",
        "        correct = 0\n",
        "        total = 0\n",
        "        for inputs, labels in val_loader:\n",
        "            outputs = model(inputs)\n",
        "            loss = criterion(outputs, labels)\n",
        "            val_loss += loss.item()\n",
        "            _, predicted = torch.max(outputs.data, 1)\n",
        "            total += labels.size(0)\n",
        "            correct += (predicted == labels).sum().item()\n",
        "\n",
        "    print(f'Epoch {epoch+1}/{num_epochs}, Loss: {val_loss/len(val_loader):.4f}, Accuracy: {100*correct/total:.2f}%')\n",
        "\n",
        "# Save the model weights\n",
        "torch.save(model.state_dict(), '/content/drive/MyDrive/vgg16_frozen_weights_pytorch.pth')\n"
      ],
      "metadata": {
        "id": "OekphdU0aqO2",
        "outputId": "e114a4f2-85ed-4adb-ce76-752966efaf22",
        "colab": {
          "base_uri": "https://localhost:8080/"
        }
      },
      "execution_count": 4,
      "outputs": [
        {
          "output_type": "stream",
          "name": "stdout",
          "text": [
            "Epoch 1/10, Loss: 0.5827, Accuracy: 96.60%\n",
            "Epoch 2/10, Loss: 0.5827, Accuracy: 96.60%\n",
            "Epoch 3/10, Loss: 0.5827, Accuracy: 96.60%\n",
            "Epoch 4/10, Loss: 0.5827, Accuracy: 96.60%\n",
            "Epoch 5/10, Loss: 0.5827, Accuracy: 96.60%\n",
            "Epoch 6/10, Loss: 0.5827, Accuracy: 96.60%\n",
            "Epoch 7/10, Loss: 0.5827, Accuracy: 96.60%\n",
            "Epoch 8/10, Loss: 0.5827, Accuracy: 96.60%\n",
            "Epoch 9/10, Loss: 0.5827, Accuracy: 96.60%\n",
            "Epoch 10/10, Loss: 0.5827, Accuracy: 96.60%\n"
          ]
        }
      ]
    }
  ]
}