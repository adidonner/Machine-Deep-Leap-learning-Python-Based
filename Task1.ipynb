A white square runs diagonally from top to bottom
and around it a red blocking square
