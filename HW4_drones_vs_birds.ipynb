{
  "cells": [
    {
      "cell_type": "markdown",
      "metadata": {
        "id": "view-in-github",
        "colab_type": "text"
      },
      "source": [
        "<a href=\"https://colab.research.google.com/github/adidonner/Machine-Deep-Leap-learning-Python-Based/blob/main/HW4_drones_vs_birds.ipynb\" target=\"_parent\"><img src=\"https://colab.research.google.com/assets/colab-badge.svg\" alt=\"Open In Colab\"/></a>"
      ]
    },
    {
      "cell_type": "markdown",
      "metadata": {
        "id": "HKR5QpzkCNTh"
      },
      "source": [
        "# Short solution"
      ]
    },
    {
      "cell_type": "code",
      "execution_count": null,
      "metadata": {
        "id": "Gf4fBD4CDAS6"
      },
      "outputs": [],
      "source": [
        "import os\n",
        "import numpy as np\n",
        "import matplotlib.pyplot as plt\n",
        "import tensorflow as tf\n",
        "from tensorflow.keras.preprocessing.image import ImageDataGenerator\n",
        "from tensorflow.keras.models import Sequential\n",
        "from tensorflow.keras.layers import Dense, Conv2D, Flatten, Dropout, MaxPooling2D\n",
        "import glob\n",
        "import cv2\n",
        "import random"
      ]
    },
    {
      "cell_type": "code",
      "execution_count": null,
      "metadata": {
        "colab": {
          "base_uri": "https://localhost:8080/"
        },
        "id": "4OyDKDzcCOg8",
        "outputId": "7ee839cf-e1ac-46bc-90ad-26b5aedefe16"
      },
      "outputs": [
        {
          "output_type": "stream",
          "name": "stdout",
          "text": [
            "Processed 1 bird and other images\n",
            "Processed 1 drone and other images\n"
          ]
        }
      ],
      "source": [
        "def save_processed_images(folder, label, image_size=(32, 32), other_label='other'):\n",
        "    \"\"\"\n",
        "    Save processed images into folders corresponding to their labels.\n",
        "\n",
        "    Parameters:\n",
        "    folder (str): Path to the folder containing images and labels.\n",
        "    label (str): Label for the images in this folder.\n",
        "    image_size (tuple): Target size for the images (width, height).\n",
        "    other_label (str): Label for the 'other' class.\n",
        "    \"\"\"\n",
        "    image_paths = glob.glob(os.path.join(folder, '*.jpg'))[:100]  # Assuming images are in JPG format\n",
        "\n",
        "    # Create directories for each label if they don't exist\n",
        "    label_path = '/content/data/' + label\n",
        "    other_path = '/content/data/' + other_label\n",
        "    if not os.path.exists(label):\n",
        "        os.makedirs(label_path, exist_ok=True)\n",
        "    if not os.path.exists(other_label):\n",
        "        os.makedirs(other_path, exist_ok=True)\n",
        "\n",
        "    for i, image_path in enumerate(image_paths):\n",
        "        # Read image\n",
        "        image = cv2.imread(image_path)\n",
        "        img_height, img_width = image.shape[:2]\n",
        "\n",
        "        # Process for the specified class\n",
        "        txt_path = image_path.replace('.jpg', '.txt')\n",
        "        with open(txt_path, 'r') as f:\n",
        "            bbox = f.readline().split()\n",
        "            x_center, y_center, width, height = [float(x) for x in bbox[1:]]\n",
        "\n",
        "            x = int((x_center - width / 2) * img_width)\n",
        "            y = int((y_center - height / 2) * img_height)\n",
        "            w = int(width * img_width)\n",
        "            h = int(height * img_height)\n",
        "\n",
        "            cropped_img = image[y:y+h, x:x+w]\n",
        "            resized_img = cv2.resize(cropped_img, image_size)\n",
        "            save_path = os.path.join(label_path, os.path.basename(image_path))\n",
        "            cv2.imwrite(save_path, resized_img)\n",
        "\n",
        "            # Process for 'other' class\n",
        "            x_rand = random.randint(0, img_width - 32)\n",
        "            y_rand = random.randint(0, img_height - 32)\n",
        "            random_crop = image[y_rand:y_rand+32, x_rand:x_rand+32]\n",
        "            other_save_path = os.path.join(other_path, 'other_' + os.path.basename(image_path))\n",
        "            cv2.imwrite(other_save_path, random_crop)\n",
        "\n",
        "        if i%200 == 0:\n",
        "            print(f'Processed {i+1} {label} and {other_label} images')\n",
        "\n",
        "bird_path = '/content/drive/MyDrive/Road2_Courses/AI_Course/bird_data' # Change to your real path\n",
        "drone_path = '/content/drive/MyDrive/Road2_Courses/AI_Course/drone_data' # Change to your real path\n",
        "\n",
        "bird_data = save_processed_images(bird_path, 'bird')\n",
        "drone_data = save_processed_images(drone_path, 'drone')"
      ]
    },
    {
      "cell_type": "code",
      "execution_count": null,
      "metadata": {
        "colab": {
          "base_uri": "https://localhost:8080/"
        },
        "id": "w0erM4uhCZVY",
        "outputId": "5b728b81-0198-41a4-b8fb-5f8d868cda41"
      },
      "outputs": [
        {
          "output_type": "stream",
          "name": "stdout",
          "text": [
            "Found 400 files belonging to 3 classes.\n",
            "Using 320 files for training.\n",
            "Found 400 files belonging to 3 classes.\n",
            "Using 80 files for validation.\n"
          ]
        }
      ],
      "source": [
        "directory = '/content/data'\n",
        "\n",
        "train_ds = tf.keras.utils.image_dataset_from_directory(\n",
        "    directory,\n",
        "    labels='inferred',\n",
        "    batch_size=32,\n",
        "    image_size=(32, 32),\n",
        "    shuffle=True,\n",
        "    seed = 5,\n",
        "    validation_split=0.2,\n",
        "    subset='training',\n",
        ")\n",
        "\n",
        "val_ds = tf.keras.utils.image_dataset_from_directory(\n",
        "    directory,\n",
        "    labels='inferred',\n",
        "    batch_size=32,\n",
        "    image_size=(32, 32),\n",
        "    shuffle=False,\n",
        "    seed = 5,\n",
        "    validation_split=0.2,\n",
        "    subset='validation',\n",
        ")"
      ]
    },
    {
      "cell_type": "markdown",
      "metadata": {
        "id": "rTshOkEEPhZX"
      },
      "source": [
        "## Without augmentation:"
      ]
    },
    {
      "cell_type": "code",
      "execution_count": null,
      "metadata": {
        "colab": {
          "base_uri": "https://localhost:8080/"
        },
        "id": "P8Cty47BCXMK",
        "outputId": "3f60ab55-9aa4-486c-bd7b-6e6882eb02c0"
      },
      "outputs": [
        {
          "name": "stdout",
          "output_type": "stream",
          "text": [
            "Epoch 1/10\n",
            "394/394 [==============================] - 7s 16ms/step - loss: 1.2286 - accuracy: 0.8849 - val_loss: 0.0918 - val_accuracy: 0.9809\n",
            "Epoch 2/10\n",
            "394/394 [==============================] - 7s 17ms/step - loss: 0.1816 - accuracy: 0.9424 - val_loss: 0.0475 - val_accuracy: 0.9889\n",
            "Epoch 3/10\n",
            "394/394 [==============================] - 6s 16ms/step - loss: 0.1339 - accuracy: 0.9592 - val_loss: 0.0530 - val_accuracy: 0.9882\n",
            "Epoch 4/10\n",
            "394/394 [==============================] - 6s 16ms/step - loss: 0.1034 - accuracy: 0.9684 - val_loss: 0.1111 - val_accuracy: 0.9794\n",
            "Epoch 5/10\n",
            "394/394 [==============================] - 6s 16ms/step - loss: 0.0869 - accuracy: 0.9734 - val_loss: 0.0640 - val_accuracy: 0.9832\n",
            "Epoch 6/10\n",
            "394/394 [==============================] - 6s 16ms/step - loss: 0.0876 - accuracy: 0.9747 - val_loss: 0.0391 - val_accuracy: 0.9936\n",
            "Epoch 7/10\n",
            "394/394 [==============================] - 7s 17ms/step - loss: 0.0656 - accuracy: 0.9810 - val_loss: 0.0501 - val_accuracy: 0.9921\n",
            "Epoch 8/10\n",
            "394/394 [==============================] - 6s 16ms/step - loss: 0.0806 - accuracy: 0.9778 - val_loss: 0.1072 - val_accuracy: 0.9794\n",
            "Epoch 9/10\n",
            "394/394 [==============================] - 7s 17ms/step - loss: 0.0973 - accuracy: 0.9728 - val_loss: 0.0534 - val_accuracy: 0.9936\n",
            "Epoch 10/10\n",
            "394/394 [==============================] - 6s 16ms/step - loss: 0.0510 - accuracy: 0.9863 - val_loss: 0.0384 - val_accuracy: 0.9959\n"
          ]
        },
        {
          "data": {
            "text/plain": [
              "<keras.src.callbacks.History at 0x7bd2a81a55a0>"
            ]
          },
          "execution_count": 22,
          "metadata": {},
          "output_type": "execute_result"
        }
      ],
      "source": [
        "# Build CNN model\n",
        "model = Sequential([\n",
        "    Conv2D(32, (3, 3), activation='relu', input_shape=(32, 32, 3)),\n",
        "    MaxPooling2D(2, 2),\n",
        "    Conv2D(64, (3, 3), activation='relu'),\n",
        "    MaxPooling2D(2, 2),\n",
        "    Flatten(),\n",
        "    Dense(128, activation='relu'),\n",
        "    Dense(3, activation='softmax')\n",
        "])\n",
        "\n",
        "model.compile(optimizer='adam', loss='sparse_categorical_crossentropy', metrics=['accuracy'])\n",
        "\n",
        "# Train the model\n",
        "model.fit(train_ds, epochs=10, validation_data=val_ds)\n",
        "\n",
        "# Plot sample images from each class and display the number of examples\n",
        "# Code to plot images and display class distribution"
      ]
    },
    {
      "cell_type": "markdown",
      "metadata": {
        "id": "Z85B8481Pnmu"
      },
      "source": [
        "We can see the model is perfect and overfitted the data"
      ]
    },
    {
      "cell_type": "markdown",
      "metadata": {
        "id": "vk7_GkfQQAZD"
      },
      "source": [
        "## Adding two augmentations: flip and rotation"
      ]
    },
    {
      "cell_type": "code",
      "execution_count": null,
      "metadata": {
        "id": "untgZFrRRH7J"
      },
      "outputs": [],
      "source": [
        "data_augmentation = tf.keras.Sequential([\n",
        "  tf.keras.layers.RandomFlip('horizontal'),\n",
        "  tf.keras.layers.RandomRotation(0.2),\n",
        "])"
      ]
    },
    {
      "cell_type": "code",
      "execution_count": null,
      "metadata": {
        "colab": {
          "base_uri": "https://localhost:8080/",
          "height": 807
        },
        "id": "F8dWIC4HRMV2",
        "outputId": "22dfb37e-2fc1-410b-bf0f-bfe98789ad72"
      },
      "outputs": [
        {
          "output_type": "display_data",
          "data": {
            "text/plain": [
              "<Figure size 1000x1000 with 9 Axes>"
            ],
            "image/png": "[encoded data removed]"
          },
          "metadata": {}
        }
      ],
      "source": [
        "for image, _ in train_ds.take(1):\n",
        "  plt.figure(figsize=(10, 10))\n",
        "  first_image = image[0]\n",
        "  for i in range(9):\n",
        "    ax = plt.subplot(3, 3, i + 1)\n",
        "    augmented_image = data_augmentation(tf.expand_dims(first_image, 0))\n",
        "    plt.imshow(augmented_image[0] / 255)\n",
        "    plt.axis('off')"
      ]
    },
    {
      "cell_type": "code",
      "execution_count": null,
      "metadata": {
        "colab": {
          "base_uri": "https://localhost:8080/"
        },
        "id": "CmdnR1wtOqME",
        "outputId": "28870047-99a5-423f-ab6b-e4eceb68900b"
      },
      "outputs": [
        {
          "output_type": "stream",
          "name": "stdout",
          "text": [
            "Epoch 1/10\n",
            "10/10 [==============================] - 4s 32ms/step - loss: 41.2467 - accuracy: 0.3219 - val_loss: 2.8297 - val_accuracy: 0.0375\n",
            "Epoch 2/10\n",
            "10/10 [==============================] - 0s 8ms/step - loss: 1.9745 - accuracy: 0.6000 - val_loss: 0.3463 - val_accuracy: 0.8125\n",
            "Epoch 3/10\n",
            "10/10 [==============================] - 0s 8ms/step - loss: 0.7683 - accuracy: 0.7156 - val_loss: 0.1905 - val_accuracy: 0.9875\n",
            "Epoch 4/10\n",
            "10/10 [==============================] - 0s 8ms/step - loss: 0.4321 - accuracy: 0.8562 - val_loss: 0.1616 - val_accuracy: 0.9500\n",
            "Epoch 5/10\n",
            "10/10 [==============================] - 0s 7ms/step - loss: 0.4369 - accuracy: 0.8594 - val_loss: 0.1957 - val_accuracy: 0.9750\n",
            "Epoch 6/10\n",
            "10/10 [==============================] - 0s 7ms/step - loss: 0.3884 - accuracy: 0.8625 - val_loss: 0.0726 - val_accuracy: 1.0000\n",
            "Epoch 7/10\n",
            "10/10 [==============================] - 0s 7ms/step - loss: 0.3083 - accuracy: 0.8875 - val_loss: 0.0668 - val_accuracy: 1.0000\n",
            "Epoch 8/10\n",
            "10/10 [==============================] - 0s 7ms/step - loss: 0.2512 - accuracy: 0.9281 - val_loss: 0.0529 - val_accuracy: 1.0000\n",
            "Epoch 9/10\n",
            "10/10 [==============================] - 0s 7ms/step - loss: 0.3172 - accuracy: 0.9062 - val_loss: 0.1301 - val_accuracy: 0.9750\n",
            "Epoch 10/10\n",
            "10/10 [==============================] - 0s 7ms/step - loss: 0.3795 - accuracy: 0.8687 - val_loss: 0.1490 - val_accuracy: 1.0000\n"
          ]
        },
        {
          "output_type": "execute_result",
          "data": {
            "text/plain": [
              "<keras.src.callbacks.History at 0x7f92d8094760>"
            ]
          },
          "metadata": {},
          "execution_count": 9
        }
      ],
      "source": [
        "# Build CNN model\n",
        "model = Sequential([\n",
        "    data_augmentation,\n",
        "    Conv2D(32, (3, 3), activation='relu', input_shape=(32, 32, 3)),\n",
        "    MaxPooling2D(2, 2),\n",
        "    Conv2D(64, (3, 3), activation='relu'),\n",
        "    MaxPooling2D(2, 2),\n",
        "    Flatten(),\n",
        "    Dense(128, activation='relu'),\n",
        "    Dense(3, activation='softmax')\n",
        "])\n",
        "\n",
        "model.compile(optimizer='adam', loss='sparse_categorical_crossentropy', metrics=['accuracy'])\n",
        "\n",
        "# Train the model\n",
        "model.fit(train_ds, epochs=10, validation_data=val_ds)\n",
        "\n",
        "# Plot sample images from each class and display the number of examples\n",
        "# Code to plot images and display class distribution"
      ]
    },
    {
      "cell_type": "markdown",
      "metadata": {
        "id": "uAfNJw9mPvka"
      },
      "source": [
        "In this case, adding only two augmentation helped the model to generelize better"
      ]
    }
  ],
  "metadata": {
    "colab": {
      "machine_shape": "hm",
      "provenance": [],
      "gpuType": "V100",
      "include_colab_link": true
    },
    "kernelspec": {
      "display_name": "Python 3",
      "name": "python3"
    },
    "language_info": {
      "name": "python"
    },
    "accelerator": "GPU"
  },
  "nbformat": 4,
  "nbformat_minor": 0
}