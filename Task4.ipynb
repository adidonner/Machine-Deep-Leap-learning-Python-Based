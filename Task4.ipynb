{
  "nbformat": 4,
  "nbformat_minor": 0,
  "metadata": {
    "colab": {
      "provenance": [],
      "gpuType": "T4",
      "include_colab_link": true
    },
    "kernelspec": {
      "name": "python3",
      "display_name": "Python 3"
    },
    "language_info": {
      "name": "python"
    },
    "accelerator": "GPU"
  },
  "cells": [
    {
      "cell_type": "markdown",
      "metadata": {
        "id": "view-in-github",
        "colab_type": "text"
      },
      "source": [
        "<a href=\"https://colab.research.google.com/github/adidonner/Machine-Deep-Leap-learning-Python-Based/blob/20231211/Task4.ipynb\" target=\"_parent\"><img src=\"https://colab.research.google.com/assets/colab-badge.svg\" alt=\"Open In Colab\"/></a>"
      ]
    },
    {
      "cell_type": "code",
      "source": [
        "from google.colab import drive\n",
        "drive.mount('/content/drive')"
      ],
      "metadata": {
        "colab": {
          "base_uri": "https://localhost:8080/"
        },
        "id": "zTgeCBvJQ-nG",
        "outputId": "62d82732-3bf5-4212-a94d-cee0508dbe1c"
      },
      "execution_count": 1,
      "outputs": [
        {
          "output_type": "stream",
          "name": "stdout",
          "text": [
            "Mounted at /content/drive\n"
          ]
        }
      ]
    },
    {
      "cell_type": "markdown",
      "source": [
        "remove all files in /content/drive/MyDrive"
      ],
      "metadata": {
        "id": "bQs0lqSOpZez"
      }
    },
    {
      "cell_type": "code",
      "source": [
        "# import os\n",
        "\n",
        "# for file in os.listdir('/content/drive/MyDrive'):\n",
        "#   full_path = '/content/drive/MyDrive/' + file\n",
        "#   if os.path.isfile(full_path):\n",
        "#     os.remove(full_path)\n",
        "\n",
        "/content/drive/MyDrive/drone_data"
      ],
      "metadata": {
        "id": "CobBPhuSoBF4"
      },
      "execution_count": 10,
      "outputs": []
    },
    {
      "cell_type": "code",
      "source": [
        "# !rm -rf /content/drive/MyDrive/with_drone"
      ],
      "metadata": {
        "id": "X2Yn0CEErQQh"
      },
      "execution_count": 15,
      "outputs": []
    },
    {
      "cell_type": "markdown",
      "source": [
        "Take the files  \"*.jpg\" and \"*.txt\" in \"/content/drive/MyDrive/drone_data\" and prepare them to work with a neural network ,YOLOv8 format. From each image corp the drone and Save it in the folder \"/content/drive/MyDrive/my_drone_data/drone\""
      ],
      "metadata": {
        "id": "J8RPFoNpa-vE"
      }
    },
    {
      "cell_type": "code",
      "source": [
        "import os\n",
        "import cv2\n",
        "import shutil\n",
        "\n",
        "# Set the paths\n",
        "input_folder = \"/content/drive/MyDrive/drone_data\"\n",
        "output_folder = \"/content/drive/MyDrive/my_drone_data/drone\"\n",
        "\n",
        "\n",
        "# Create the output folder if it doesn't exist\n",
        "# os.makedirs(output_folder, exist_ok=True)\n",
        "\n",
        "# Iterate through each file in the input folder\n",
        "for filename in os.listdir(input_folder):\n",
        "    if filename.endswith((\".jpg\", \".txt\")):\n",
        "        file_path = os.path.join(input_folder, filename)\n",
        "\n",
        "        # Check if the file is an image\n",
        "        if filename.endswith(\".jpg\"):\n",
        "            # Load the image\n",
        "            image = cv2.imread(file_path)\n",
        "\n",
        "            # Assume there's a corresponding text file with YOLO format bounding box coordinates\n",
        "            txt_file_path = os.path.join(input_folder, filename.replace(\".jpg\", \".txt\"))\n",
        "\n",
        "            # Check if the corresponding text file exists\n",
        "            if os.path.exists(txt_file_path):\n",
        "                # Read YOLO format coordinates from the text file\n",
        "                with open(txt_file_path, 'r') as txt_file:\n",
        "                    lines = txt_file.readlines()\n",
        "                    for line in lines:\n",
        "                        # Parse the coordinates and crop the drone\n",
        "                        # Note: You may need to adjust the code based on the format of your bounding box coordinates\n",
        "                        class_label, center_x, center_y, width, height = map(float, line.strip().split())\n",
        "                        x = int((center_x - width / 2) * image.shape[1])\n",
        "                        y = int((center_y - height / 2) * image.shape[0])\n",
        "                        w = int(width * image.shape[1])\n",
        "                        h = int(height * image.shape[0])\n",
        "                        cropped_drone = image[y:y + h, x:x + w]\n",
        "\n",
        "                        # Save the cropped image in the \"with_drone\" folder\n",
        "                        output_path = os.path.join(output_folder, f\"{filename.replace('.jpg', '')}_cropped.jpg\")\n",
        "                        cv2.imwrite(output_path, cropped_drone)\n",
        "\n",
        "                        # Save YOLOv8 format annotation file in the \"yolo_format\" folder\n",
        "                        # yolo_annotation_path = os.path.join(yolo_folder, f\"{filename.replace('.jpg', '')}.txt\")\n",
        "                        # with open(yolo_annotation_path, 'a') as yolo_file:\n",
        "                            # Write YOLOv8 format coordinates (class x_center y_center width height)\n",
        "                            # yolo_file.write(f\"{int(class_label)} {center_x} {center_y} {width} {height}\\n\")\n",
        "\n",
        "print(\"Processing complete.\")\n"
      ],
      "metadata": {
        "colab": {
          "base_uri": "https://localhost:8080/"
        },
        "id": "mwrsuOgFbLeh",
        "outputId": "ee1d418c-83c2-4df8-b2f3-a5d5460cde26"
      },
      "execution_count": 20,
      "outputs": [
        {
          "output_type": "stream",
          "name": "stdout",
          "text": [
            "Processing complete.\n"
          ]
        }
      ]
    },
    {
      "cell_type": "code",
      "source": [
        "import os\n",
        "import cv2\n",
        "import shutil\n",
        "import random\n",
        "\n",
        "# Set the paths\n",
        "input_folder = \"/content/drive/MyDrive\"\n",
        "with_drone_folder = \"/content/drive/MyDrive/with_drone\"\n",
        "without_drone_folder = \"/content/drive/MyDrive/without_drone\"\n",
        "\n",
        "# Create the output folders if they don't exist\n",
        "os.makedirs(with_drone_folder, exist_ok=True)\n",
        "os.makedirs(without_drone_folder, exist_ok=True)\n",
        "\n",
        "# Iterate through each file in the input folder\n",
        "for filename in os.listdir(input_folder):\n",
        "    if filename.endswith((\".jpg\", \".txt\")):\n",
        "        file_path = os.path.join(input_folder, filename)\n",
        "\n",
        "        # Check if the file is an image\n",
        "        if filename.endswith(\".jpg\"):\n",
        "            # Load the image\n",
        "            image = cv2.imread(file_path)\n",
        "\n",
        "            # Assume there's a corresponding text file with YOLO format bounding box coordinates\n",
        "            txt_file_path = os.path.join(input_folder, filename.replace(\".jpg\", \".txt\"))\n",
        "\n",
        "            # Check if the corresponding text file exists\n",
        "            if os.path.exists(txt_file_path):\n",
        "                # Read YOLO format coordinates from the text file\n",
        "                with open(txt_file_path, 'r') as txt_file:\n",
        "                    lines = txt_file.readlines()\n",
        "                    for line in lines:\n",
        "                        # Parse the coordinates and crop the drone\n",
        "                        # Note: You may need to adjust the code based on the format of your bounding box coordinates\n",
        "                        class_label, center_x, center_y, width, height = map(float, line.strip().split())\n",
        "                        x = int((center_x - width / 2) * image.shape[1])\n",
        "                        y = int((center_y - height / 2) * image.shape[0])\n",
        "                        w = int(width * image.shape[1])\n",
        "                        h = int(height * image.shape[0])\n",
        "                        cropped_drone = image[y:y + h, x:x + w]\n",
        "\n",
        "                        # Save the cropped image in the \"with_drone\" folder\n",
        "                        with_drone_output_path = os.path.join(with_drone_folder, f\"{filename.replace('.jpg', '')}_cropped.jpg\")\n",
        "                        cv2.imwrite(with_drone_output_path, cropped_drone)\n",
        "\n",
        "            # Crop a random 28x28 region and save it to the \"without_drone\" folder\n",
        "            h, w, _ = image.shape\n",
        "            if h > 28 and w > 28:\n",
        "                random_y = random.randint(0, h - 28)\n",
        "                random_x = random.randint(0, w - 28)\n",
        "                cropped_without_drone = image[random_y:random_y + 28, random_x:random_x + 28]\n",
        "\n",
        "                without_drone_output_path = os.path.join(without_drone_folder, f\"{filename.replace('.jpg', '')}_cropped.jpg\")\n",
        "                cv2.imwrite(without_drone_output_path, cropped_without_drone)\n",
        "\n",
        "print(\"Processing complete.\")\n"
      ],
      "metadata": {
        "colab": {
          "base_uri": "https://localhost:8080/"
        },
        "id": "W9DFdl02faxY",
        "outputId": "44f2f06a-3eba-4e09-f607-9c4923c32da8"
      },
      "execution_count": null,
      "outputs": [
        {
          "output_type": "stream",
          "name": "stdout",
          "text": [
            "Processing complete.\n"
          ]
        }
      ]
    },
    {
      "cell_type": "markdown",
      "source": [
        "take all the dataset in \"with_drone\" and \"without_drone\" and separate to new files \"train\" and \"test\". 85% will go to train  and 15% for test"
      ],
      "metadata": {
        "id": "XRQLq8mYh3vY"
      }
    },
    {
      "cell_type": "code",
      "source": [
        "import os\n",
        "import cv2\n",
        "import shutil\n",
        "import random\n",
        "\n",
        "# Set the paths\n",
        "with_drone_folder = \"/content/drive/MyDrive/with_drone\"\n",
        "without_drone_folder = \"/content/drive/MyDrive/without_drone\"\n",
        "train_folder = \"/content/drive/MyDrive/train\"\n",
        "test_folder = \"/content/drive/MyDrive/test\"\n",
        "\n",
        "# Create the output folders if they don't exist\n",
        "os.makedirs(train_folder, exist_ok=True)\n",
        "os.makedirs(test_folder, exist_ok=True)\n",
        "\n",
        "# Function to move files to train or test folder based on the ratio\n",
        "def move_files(src_folder, dest_train_folder, dest_test_folder, ratio):\n",
        "    files = os.listdir(src_folder)\n",
        "    random.shuffle(files)\n",
        "    split_index = int(len(files) * ratio)\n",
        "    train_files = files[:split_index]\n",
        "    test_files = files[split_index:]\n",
        "\n",
        "    for filename in train_files:\n",
        "        src_path = os.path.join(src_folder, filename)\n",
        "        dest_path = os.path.join(dest_train_folder, filename)\n",
        "        shutil.move(src_path, dest_path)\n",
        "\n",
        "    for filename in test_files:\n",
        "        src_path = os.path.join(src_folder, filename)\n",
        "        dest_path = os.path.join(dest_test_folder, filename)\n",
        "        shutil.move(src_path, dest_path)\n",
        "\n",
        "# Move files for the \"with_drone\" folder\n",
        "move_files(with_drone_folder, train_folder, test_folder, ratio=0.85)\n",
        "\n",
        "# Move files for the \"without_drone\" folder\n",
        "move_files(without_drone_folder, train_folder, test_folder, ratio=0.85)\n",
        "\n",
        "print(\"Dataset split into train and test sets.\")\n"
      ],
      "metadata": {
        "colab": {
          "base_uri": "https://localhost:8080/"
        },
        "id": "UhNbj60bhkNb",
        "outputId": "81cfd1ca-2246-441f-9384-2ace6a48fe85"
      },
      "execution_count": null,
      "outputs": [
        {
          "output_type": "stream",
          "name": "stdout",
          "text": [
            "Dataset split into train and test sets.\n"
          ]
        }
      ]
    },
    {
      "cell_type": "markdown",
      "source": [
        "give me a report on the files in train and test"
      ],
      "metadata": {
        "id": "RBt1xkPsiULD"
      }
    },
    {
      "cell_type": "code",
      "source": [
        "def generate_report(folder):\n",
        "    file_count = len(os.listdir(folder))\n",
        "    return f\"{folder}: {file_count} files\"\n",
        "\n",
        "# Paths to the train and test folders\n",
        "train_folder = \"/content/drive/MyDrive/train\"\n",
        "test_folder = \"/content/drive/MyDrive/test\"\n",
        "\n",
        "# Generate reports for train and test folders\n",
        "train_report = generate_report(train_folder)\n",
        "test_report = generate_report(test_folder)\n",
        "\n",
        "# Print the reports\n",
        "print(train_report)\n",
        "print(test_report)\n"
      ],
      "metadata": {
        "colab": {
          "base_uri": "https://localhost:8080/"
        },
        "id": "xNPJFk4DiNeP",
        "outputId": "392726fe-03ab-4d17-b2a9-66b27ee0af6c"
      },
      "execution_count": null,
      "outputs": [
        {
          "output_type": "stream",
          "name": "stdout",
          "text": [
            "/content/drive/MyDrive/train: 843 files\n",
            "/content/drive/MyDrive/test: 238 files\n"
          ]
        }
      ]
    },
    {
      "cell_type": "markdown",
      "source": [
        "take all the images in train and test and make sure they're 28 * 28, if not resize them"
      ],
      "metadata": {
        "id": "YObQC5ByjF4H"
      }
    },
    {
      "cell_type": "code",
      "source": [
        "import os\n",
        "import cv2\n",
        "\n",
        "# Function to resize images in a folder\n",
        "def resize_images(folder, target_size=(28, 28)):\n",
        "    for filename in os.listdir(folder):\n",
        "        file_path = os.path.join(folder, filename)\n",
        "\n",
        "        # Check if the file is an image\n",
        "        if filename.endswith(\".jpg\"):\n",
        "            # Read the image\n",
        "            image = cv2.imread(file_path)\n",
        "\n",
        "            # Resize the image to the target size\n",
        "            resized_image = cv2.resize(image, target_size)\n",
        "\n",
        "            # Save the resized image back to the file\n",
        "            cv2.imwrite(file_path, resized_image)\n",
        "\n",
        "# Paths to the train and test folders\n",
        "train_folder = \"/content/drive/MyDrive/train\"\n",
        "test_folder = \"/content/drive/MyDrive/test\"\n",
        "\n",
        "# Resize images in the train and test folders\n",
        "resize_images(train_folder)\n",
        "resize_images(test_folder)\n",
        "\n",
        "print(\"Images in train and test sets resized to 28x28.\")\n"
      ],
      "metadata": {
        "colab": {
          "base_uri": "https://localhost:8080/"
        },
        "id": "535R2n2Bi_Ku",
        "outputId": "a12fe58f-574d-46db-ed24-e43fbfc0e5d8"
      },
      "execution_count": null,
      "outputs": [
        {
          "output_type": "stream",
          "name": "stdout",
          "text": [
            "Images in train and test sets resized to 28x28.\n"
          ]
        }
      ]
    },
    {
      "cell_type": "code",
      "source": [
        "import os\n",
        "import cv2\n",
        "\n",
        "# Function to generate a resolution report for a folder\n",
        "def generate_resolution_report(folder):\n",
        "    resolutions = []\n",
        "    for filename in os.listdir(folder):\n",
        "        file_path = os.path.join(folder, filename)\n",
        "\n",
        "        # Check if the file is an image\n",
        "        if filename.endswith(\".jpg\"):\n",
        "            # Read the image\n",
        "            image = cv2.imread(file_path)\n",
        "\n",
        "            # Get the resolution (height and width) of the image\n",
        "            height, width, _ = image.shape\n",
        "            resolutions.append((height, width))\n",
        "\n",
        "    return resolutions\n",
        "\n",
        "# Paths to the train and test folders\n",
        "train_folder = \"/content/drive/MyDrive/train\"\n",
        "test_folder = \"/content/drive/MyDrive/test\"\n",
        "\n",
        "# Generate resolution reports for train and test folders\n",
        "train_resolution_report = generate_resolution_report(train_folder)\n",
        "test_resolution_report = generate_resolution_report(test_folder)\n",
        "\n",
        "# Print the reports\n",
        "print(\"Resolution report for train set:\")\n",
        "for resolution in train_resolution_report:\n",
        "    print(f\"Image resolution: {resolution}\")\n",
        "\n",
        "print(\"\\nResolution report for test set:\")\n",
        "for resolution in test_resolution_report:\n",
        "    print(f\"Image resolution: {resolution}\")\n"
      ],
      "metadata": {
        "id": "34NdCS4CjW6a"
      },
      "execution_count": null,
      "outputs": []
    },
    {
      "cell_type": "code",
      "source": [
        "import os\n",
        "import cv2\n",
        "import numpy as np\n",
        "\n",
        "# Function to convert images to grayscale and normalize values\n",
        "def process_images(folder):\n",
        "    for filename in os.listdir(folder):\n",
        "        file_path = os.path.join(folder, filename)\n",
        "\n",
        "        # Check if the file is an image\n",
        "        if filename.endswith(\".jpg\"):\n",
        "            # Read the image in color\n",
        "            image = cv2.imread(file_path)\n",
        "\n",
        "            # Convert the image to grayscale\n",
        "            grayscale_image = cv2.cvtColor(image, cv2.COLOR_BGR2GRAY)\n",
        "\n",
        "            # Normalize pixel values between 0 and 1\n",
        "            normalized_image = grayscale_image / 255.0\n",
        "\n",
        "            # Save the processed image back to the file\n",
        "            cv2.imwrite(file_path, (normalized_image * 255).astype(np.uint8))\n",
        "\n",
        "# Paths to the train and test folders\n",
        "train_folder = \"/content/drive/MyDrive/train\"\n",
        "test_folder = \"/content/drive/MyDrive/test\"\n",
        "\n",
        "# Process images in the train and test folders\n",
        "process_images(train_folder)\n",
        "process_images(test_folder)\n",
        "\n",
        "print(\"Images in train and test sets converted to grayscale and normalized.\")\n"
      ],
      "metadata": {
        "colab": {
          "base_uri": "https://localhost:8080/"
        },
        "id": "bJo_toQVkWvf",
        "outputId": "f968981d-d0ca-403e-9de8-50b85a5e6465"
      },
      "execution_count": null,
      "outputs": [
        {
          "output_type": "stream",
          "name": "stdout",
          "text": [
            "Images in train and test sets converted to grayscale and normalized.\n"
          ]
        }
      ]
    },
    {
      "cell_type": "markdown",
      "source": [
        "Prepare a neural network model using the KERAS mechanism that uses an assembler instead of loops and enter as a result pointers to folders with one perceptron that says whether or not there is a drone in the image. Normalize the matrix to a vector, train the model, test it and prepare a confusion matrix graph with the results"
      ],
      "metadata": {
        "id": "uYoZrJgDoZDV"
      }
    },
    {
      "cell_type": "code",
      "source": [
        "import os\n",
        "import cv2\n",
        "import numpy as np\n",
        "import matplotlib.pyplot as plt\n",
        "from sklearn.model_selection import train_test_split\n",
        "from sklearn.metrics import confusion_matrix\n",
        "from tensorflow import keras\n",
        "from tensorflow.keras import layers\n",
        "\n",
        "# Function to load and preprocess images from a folder\n",
        "def load_and_preprocess(folder):\n",
        "    images = []\n",
        "    labels = []\n",
        "\n",
        "    for filename in os.listdir(folder):\n",
        "        file_path = os.path.join(folder, filename)\n",
        "\n",
        "        # Check if the file is an image\n",
        "        if filename.endswith(\".jpg\"):\n",
        "            # Read the image\n",
        "            image = cv2.imread(file_path, cv2.IMREAD_GRAYSCALE)\n",
        "\n",
        "            # Normalize pixel values between 0 and 1\n",
        "            normalized_image = image / 255.0\n",
        "\n",
        "            images.append(normalized_image.flatten())  # Flatten the matrix to a vector\n",
        "            labels.append(1 if \"with_drone\" in folder else 0)\n",
        "\n",
        "    return np.array(images), np.array(labels)\n",
        "\n",
        "# Load and preprocess images from train and test folders\n",
        "train_images, train_labels = load_and_preprocess(\"/content/drive/MyDrive/train\")\n",
        "test_images, test_labels = load_and_preprocess(\"/content/drive/MyDrive/test\")\n",
        "\n",
        "# Split the data into train and validation sets\n",
        "train_images, val_images, train_labels, val_labels = train_test_split(\n",
        "    train_images, train_labels, test_size=0.15, random_state=42\n",
        ")\n",
        "\n",
        "# Build the neural network model\n",
        "model = keras.Sequential([\n",
        "    layers.Dense(128, activation='relu', input_shape=(train_images.shape[1],)),\n",
        "    layers.Dropout(0.5),\n",
        "    layers.Dense(1, activation='sigmoid')\n",
        "])\n",
        "\n",
        "# Compile the model\n",
        "model.compile(optimizer='adam', loss='binary_crossentropy', metrics=['accuracy'])\n",
        "\n",
        "# Train the model\n",
        "history = model.fit(train_images, train_labels, epochs=10, batch_size=32, validation_data=(val_images, val_labels))\n",
        "\n",
        "# Evaluate the model on the test set\n",
        "test_loss, test_accuracy = model.evaluate(test_images, test_labels)\n",
        "print(f\"\\nTest Accuracy: {test_accuracy:.4f}\")\n",
        "\n",
        "# Make predictions on the test set\n",
        "predictions = model.predict(test_images)\n",
        "rounded_predictions = np.round(predictions)\n",
        "\n",
        "# Create a confusion matrix\n",
        "conf_matrix = confusion_matrix(test_labels, rounded_predictions)\n",
        "\n",
        "# Plot the confusion matrix\n",
        "plt.imshow(conf_matrix, interpolation='nearest', cmap=plt.cm.Blues)\n",
        "plt.title('Confusion Matrix')\n",
        "plt.colorbar()\n",
        "\n",
        "classes = ['No Drone', 'With Drone']\n",
        "tick_marks = np.arange(len(classes))\n",
        "plt.xticks(tick_marks, classes, rotation=45)\n",
        "plt.yticks(tick_marks, classes)\n",
        "\n",
        "plt.xlabel('Predicted Label')\n",
        "plt.ylabel('True Label')\n",
        "plt.show()\n"
      ],
      "metadata": {
        "colab": {
          "base_uri": "https://localhost:8080/",
          "height": 974
        },
        "id": "KAhoPghHmYUF",
        "outputId": "75e6d27b-117d-4fbb-d881-ae95dc7fede7"
      },
      "execution_count": null,
      "outputs": [
        {
          "output_type": "stream",
          "name": "stdout",
          "text": [
            "Epoch 1/10\n",
            "23/23 [==============================] - 2s 12ms/step - loss: 0.0594 - accuracy: 0.9609 - val_loss: 6.9994e-04 - val_accuracy: 1.0000\n",
            "Epoch 2/10\n",
            "23/23 [==============================] - 0s 7ms/step - loss: 0.0012 - accuracy: 1.0000 - val_loss: 3.4364e-04 - val_accuracy: 1.0000\n",
            "Epoch 3/10\n",
            "23/23 [==============================] - 0s 6ms/step - loss: 0.0012 - accuracy: 1.0000 - val_loss: 1.8530e-04 - val_accuracy: 1.0000\n",
            "Epoch 4/10\n",
            "23/23 [==============================] - 0s 6ms/step - loss: 0.0012 - accuracy: 1.0000 - val_loss: 9.6373e-05 - val_accuracy: 1.0000\n",
            "Epoch 5/10\n",
            "23/23 [==============================] - 0s 6ms/step - loss: 0.0010 - accuracy: 1.0000 - val_loss: 5.6989e-05 - val_accuracy: 1.0000\n",
            "Epoch 6/10\n",
            "23/23 [==============================] - 0s 8ms/step - loss: 0.0010 - accuracy: 1.0000 - val_loss: 4.0251e-05 - val_accuracy: 1.0000\n",
            "Epoch 7/10\n",
            "23/23 [==============================] - 0s 6ms/step - loss: 9.4764e-04 - accuracy: 1.0000 - val_loss: 2.1293e-05 - val_accuracy: 1.0000\n",
            "Epoch 8/10\n",
            "23/23 [==============================] - 0s 6ms/step - loss: 8.5667e-04 - accuracy: 1.0000 - val_loss: 1.4476e-05 - val_accuracy: 1.0000\n",
            "Epoch 9/10\n",
            "23/23 [==============================] - 0s 6ms/step - loss: 8.1401e-04 - accuracy: 1.0000 - val_loss: 1.0925e-05 - val_accuracy: 1.0000\n",
            "Epoch 10/10\n",
            "23/23 [==============================] - 0s 7ms/step - loss: 8.2446e-04 - accuracy: 1.0000 - val_loss: 7.7769e-06 - val_accuracy: 1.0000\n",
            "8/8 [==============================] - 0s 8ms/step - loss: 2.8730e-08 - accuracy: 1.0000\n",
            "\n",
            "Test Accuracy: 1.0000\n",
            "8/8 [==============================] - 0s 3ms/step\n"
          ]
        },
        {
          "output_type": "display_data",
          "data": {
            "text/plain": [
              "<Figure size 640x480 with 2 Axes>"
            ],
            "image/png": "[encoded data removed]"
          },
          "metadata": {}
        }
      ]
    },
    {
      "cell_type": "code",
      "source": [
        "import os\n",
        "import cv2\n",
        "import numpy as np\n",
        "import matplotlib.pyplot as plt\n",
        "from sklearn.model_selection import train_test_split\n",
        "from tensorflow import keras\n",
        "from tensorflow.keras import layers\n",
        "\n",
        "# Function to load and preprocess images from a folder\n",
        "def load_and_preprocess(folder):\n",
        "    images = []\n",
        "    labels = []\n",
        "\n",
        "    for filename in os.listdir(folder):\n",
        "        file_path = os.path.join(folder, filename)\n",
        "\n",
        "        # Check if the file is an image\n",
        "        if filename.endswith(\".jpg\"):\n",
        "            # Read the image\n",
        "            image = cv2.imread(file_path, cv2.IMREAD_GRAYSCALE)\n",
        "\n",
        "            # Normalize pixel values between 0 and 1\n",
        "            normalized_image = image / 255.0\n",
        "\n",
        "            images.append(normalized_image.flatten())  # Flatten the matrix to a vector\n",
        "            labels.append(1 if \"with_drone\" in folder else 0)\n",
        "\n",
        "    return np.array(images), np.array(labels)\n",
        "\n",
        "# Load and preprocess images from train and test folders\n",
        "train_images, train_labels = load_and_preprocess(\"/content/drive/MyDrive/train\")\n",
        "test_images, test_labels = load_and_preprocess(\"/content/drive/MyDrive/test\")\n",
        "\n",
        "# Split the data into train and validation sets\n",
        "train_images, val_images, train_labels, val_labels = train_test_split(\n",
        "    train_images, train_labels, test_size=0.15, random_state=42\n",
        ")\n",
        "\n",
        "# Build the neural network model\n",
        "model = keras.Sequential([\n",
        "    layers.Dense(128, activation='relu', input_shape=(train_images.shape[1],)),\n",
        "    layers.Dropout(0.5),\n",
        "    layers.Dense(1, activation='sigmoid')\n",
        "])\n",
        "\n",
        "# Compile the model\n",
        "model.compile(optimizer='adam', loss='mean_squared_error', metrics=['mse'])\n",
        "\n",
        "# Train the model and obtain history\n",
        "history = model.fit(train_images, train_labels, epochs=10, batch_size=32, validation_data=(val_images, val_labels))\n",
        "\n",
        "# Extract Mean Squared Error (MSE) values from the history object\n",
        "mse_values = history.history['mse']\n",
        "val_mse_values = history.history['val_mse']\n",
        "\n",
        "# Plot the MSE values over epochs\n",
        "plt.plot(range(1, len(mse_values) + 1), mse_values, label='Training MSE')\n",
        "plt.plot(range(1, len(val_mse_values) + 1), val_mse_values, label='Validation MSE')\n",
        "plt.title('Mean Squared Error Over Epochs')\n",
        "plt.xlabel('Epoch')\n",
        "plt.ylabel('MSE')\n",
        "plt.legend()\n",
        "plt.show()\n"
      ],
      "metadata": {
        "colab": {
          "base_uri": "https://localhost:8080/",
          "height": 851
        },
        "id": "Ll_wy2oPqdyD",
        "outputId": "db8e7c28-70bd-41cc-9da8-154916029289"
      },
      "execution_count": null,
      "outputs": [
        {
          "output_type": "stream",
          "name": "stdout",
          "text": [
            "Epoch 1/10\n",
            "23/23 [==============================] - 3s 19ms/step - loss: 0.0139 - mse: 0.0139 - val_loss: 5.3911e-05 - val_mse: 5.3911e-05\n",
            "Epoch 2/10\n",
            "23/23 [==============================] - 0s 12ms/step - loss: 4.3951e-04 - mse: 4.3951e-04 - val_loss: 2.5042e-05 - val_mse: 2.5042e-05\n",
            "Epoch 3/10\n",
            "23/23 [==============================] - 0s 15ms/step - loss: 4.0993e-04 - mse: 4.0993e-04 - val_loss: 1.5230e-05 - val_mse: 1.5230e-05\n",
            "Epoch 4/10\n",
            "23/23 [==============================] - 0s 11ms/step - loss: 3.7088e-04 - mse: 3.7088e-04 - val_loss: 7.4234e-06 - val_mse: 7.4234e-06\n",
            "Epoch 5/10\n",
            "23/23 [==============================] - 0s 7ms/step - loss: 3.5064e-04 - mse: 3.5064e-04 - val_loss: 4.7851e-06 - val_mse: 4.7851e-06\n",
            "Epoch 6/10\n",
            "23/23 [==============================] - 0s 12ms/step - loss: 3.0400e-04 - mse: 3.0400e-04 - val_loss: 2.9006e-06 - val_mse: 2.9006e-06\n",
            "Epoch 7/10\n",
            "23/23 [==============================] - 0s 12ms/step - loss: 2.8099e-04 - mse: 2.8099e-04 - val_loss: 1.9403e-06 - val_mse: 1.9403e-06\n",
            "Epoch 8/10\n",
            "23/23 [==============================] - 0s 10ms/step - loss: 3.0999e-04 - mse: 3.0999e-04 - val_loss: 1.2753e-06 - val_mse: 1.2753e-06\n",
            "Epoch 9/10\n",
            "23/23 [==============================] - 0s 10ms/step - loss: 2.8293e-04 - mse: 2.8293e-04 - val_loss: 8.8089e-07 - val_mse: 8.8089e-07\n",
            "Epoch 10/10\n",
            "23/23 [==============================] - 0s 12ms/step - loss: 2.7993e-04 - mse: 2.7993e-04 - val_loss: 5.7914e-07 - val_mse: 5.7914e-07\n"
          ]
        },
        {
          "output_type": "display_data",
          "data": {
            "text/plain": [
              "<Figure size 640x480 with 1 Axes>"
            ],
            "image/png": "[encoded data removed]"
          },
          "metadata": {}
        }
      ]
    },
    {
      "cell_type": "code",
      "source": [
        "import os\n",
        "import cv2\n",
        "import numpy as np\n",
        "import matplotlib.pyplot as plt\n",
        "from sklearn.model_selection import train_test_split\n",
        "from sklearn.metrics import confusion_matrix\n",
        "from tensorflow import keras\n",
        "from tensorflow.keras import layers\n",
        "\n",
        "# Function to load and preprocess images from a folder\n",
        "def load_and_preprocess(folder):\n",
        "    images = []\n",
        "    labels = []\n",
        "\n",
        "    for filename in os.listdir(folder):\n",
        "        file_path = os.path.join(folder, filename)\n",
        "\n",
        "        # Check if the file is an image\n",
        "        if filename.endswith(\".jpg\"):\n",
        "            # Read the image\n",
        "            image = cv2.imread(file_path, cv2.IMREAD_GRAYSCALE)\n",
        "\n",
        "            # Normalize pixel values between 0 and 1\n",
        "            normalized_image = image / 255.0\n",
        "\n",
        "            images.append(normalized_image.flatten())  # Flatten the matrix to a vector\n",
        "            labels.append(1 if \"with_drone\" in folder else 0)\n",
        "\n",
        "    return np.array(images), np.array(labels)\n",
        "\n",
        "# Load and preprocess images from train and test folders\n",
        "train_images, train_labels = load_and_preprocess(\"/content/drive/MyDrive/train\")\n",
        "test_images, test_labels = load_and_preprocess(\"/content/drive/MyDrive/test\")\n",
        "\n",
        "# Split the data into train and validation sets\n",
        "train_images, val_images, train_labels, val_labels = train_test_split(\n",
        "    train_images, train_labels, test_size=0.15, random_state=42\n",
        ")\n",
        "\n",
        "# Build the neural network model\n",
        "model = keras.Sequential([\n",
        "    layers.Dense(128, activation='relu', input_shape=(train_images.shape[1],)),\n",
        "    layers.Dropout(0.5),\n",
        "    layers.Dense(1, activation='sigmoid')\n",
        "])\n",
        "\n",
        "# Compile the model\n",
        "model.compile(optimizer='adam', loss='binary_crossentropy', metrics=['accuracy'])\n",
        "\n",
        "# Train the model\n",
        "history = model.fit(train_images, train_labels, epochs=3, batch_size=8, validation_data=(val_images, val_labels))\n",
        "\n",
        "# Evaluate the model on the test set\n",
        "test_loss, test_accuracy = model.evaluate(test_images, test_labels)\n",
        "print(f\"\\nTest Accuracy: {test_accuracy:.4f}\")\n",
        "\n",
        "# Make predictions on the test set\n",
        "predictions = model.predict(test_images)\n",
        "rounded_predictions = np.round(predictions)\n",
        "\n",
        "# Create a confusion matrix\n",
        "conf_matrix = confusion_matrix(test_labels, rounded_predictions)\n",
        "\n",
        "# Plot the confusion matrix\n",
        "plt.imshow(conf_matrix, interpolation='nearest', cmap=plt.cm.Blues)\n",
        "plt.title('Confusion Matrix')\n",
        "plt.colorbar()\n",
        "\n",
        "classes = ['No Drone', 'With Drone']\n",
        "tick_marks = np.arange(len(classes))\n",
        "plt.xticks(tick_marks, classes, rotation=45)\n",
        "plt.yticks(tick_marks, classes)\n",
        "\n",
        "plt.xlabel('Predicted Label')\n",
        "plt.ylabel('True Label')\n",
        "plt.show()\n"
      ],
      "metadata": {
        "colab": {
          "base_uri": "https://localhost:8080/",
          "height": 723
        },
        "id": "ebQgrxpOqwcq",
        "outputId": "b7a98ac0-5aa7-4545-834a-11fc4f95821e"
      },
      "execution_count": null,
      "outputs": [
        {
          "output_type": "stream",
          "name": "stdout",
          "text": [
            "Epoch 1/3\n",
            "90/90 [==============================] - 2s 5ms/step - loss: 0.0085 - accuracy: 0.9958 - val_loss: 1.8496e-04 - val_accuracy: 1.0000\n",
            "Epoch 2/3\n",
            "90/90 [==============================] - 0s 4ms/step - loss: 0.0010 - accuracy: 1.0000 - val_loss: 6.7268e-05 - val_accuracy: 1.0000\n",
            "Epoch 3/3\n",
            "90/90 [==============================] - 0s 4ms/step - loss: 9.2345e-04 - accuracy: 1.0000 - val_loss: 2.3983e-05 - val_accuracy: 1.0000\n",
            "8/8 [==============================] - 0s 3ms/step - loss: 2.0486e-07 - accuracy: 1.0000\n",
            "\n",
            "Test Accuracy: 1.0000\n",
            "8/8 [==============================] - 0s 2ms/step\n"
          ]
        },
        {
          "output_type": "display_data",
          "data": {
            "text/plain": [
              "<Figure size 640x480 with 2 Axes>"
            ],
            "image/png": "[encoded data removed]"
          },
          "metadata": {}
        }
      ]
    },
    {
      "cell_type": "markdown",
      "source": [
        "write a program that shows a graph of MSE"
      ],
      "metadata": {
        "id": "32s1bEFgs3JG"
      }
    },
    {
      "cell_type": "code",
      "source": [
        "import os\n",
        "import cv2\n",
        "import numpy as np\n",
        "import matplotlib.pyplot as plt\n",
        "from sklearn.model_selection import train_test_split\n",
        "from tensorflow import keras\n",
        "from tensorflow.keras import layers\n",
        "\n",
        "# Function to load and preprocess images from a folder\n",
        "def load_and_preprocess(folder):\n",
        "    images = []\n",
        "    labels = []\n",
        "\n",
        "    for filename in os.listdir(folder):\n",
        "        file_path = os.path.join(folder, filename)\n",
        "\n",
        "        # Check if the file is an image\n",
        "        if filename.endswith(\".jpg\"):\n",
        "            # Read the image\n",
        "            image = cv2.imread(file_path, cv2.IMREAD_GRAYSCALE)\n",
        "\n",
        "            # Normalize pixel values between 0 and 1\n",
        "            normalized_image = image / 255.0\n",
        "\n",
        "            images.append(normalized_image.flatten())  # Flatten the matrix to a vector\n",
        "            labels.append(1 if \"with_drone\" in folder else 0)\n",
        "\n",
        "    return np.array(images), np.array(labels)\n",
        "\n",
        "# Load and preprocess images from train and test folders\n",
        "train_images, train_labels = load_and_preprocess(\"/content/drive/MyDrive/train\")\n",
        "test_images, test_labels = load_and_preprocess(\"/content/drive/MyDrive/test\")\n",
        "\n",
        "# Split the data into train and validation sets\n",
        "train_images, val_images, train_labels, val_labels = train_test_split(\n",
        "    train_images, train_labels, test_size=0.15, random_state=42\n",
        ")\n",
        "\n",
        "# Build the neural network model\n",
        "model = keras.Sequential([\n",
        "    layers.Dense(16, activation='relu', input_shape=(train_images.shape[1],)),\n",
        "    layers.Dropout(0.5),\n",
        "    layers.Dense(1, activation='sigmoid')\n",
        "])\n",
        "\n",
        "# Compile the model\n",
        "model.compile(optimizer='adam', loss='mean_squared_error', metrics=['mse'])\n",
        "\n",
        "# Train the model and obtain history\n",
        "history = model.fit(train_images, train_labels, epochs=3, batch_size=8, validation_data=(val_images, val_labels))\n",
        "\n",
        "# Extract Mean Squared Error (MSE) values from the history object\n",
        "mse_values = history.history['mse']\n",
        "val_mse_values = history.history['val_mse']\n",
        "\n",
        "# Plot the MSE values over epochs\n",
        "plt.plot(range(1, len(mse_values) + 1), mse_values, label='Training MSE')\n",
        "plt.plot(range(1, len(val_mse_values) + 1), val_mse_values, label='Validation MSE')\n",
        "plt.title('Mean Squared Error Over Epochs')\n",
        "plt.xlabel('Epoch')\n",
        "plt.ylabel('MSE')\n",
        "plt.legend()\n",
        "plt.show()\n"
      ],
      "metadata": {
        "colab": {
          "base_uri": "https://localhost:8080/",
          "height": 600
        },
        "id": "B09CrdavreKt",
        "outputId": "c46df231-6e7b-4025-c702-f3e1b453749e"
      },
      "execution_count": null,
      "outputs": [
        {
          "output_type": "stream",
          "name": "stdout",
          "text": [
            "Epoch 1/3\n",
            "90/90 [==============================] - 1s 4ms/step - loss: 0.0203 - mse: 0.0203 - val_loss: 4.3402e-04 - val_mse: 4.3402e-04\n",
            "Epoch 2/3\n",
            "90/90 [==============================] - 0s 4ms/step - loss: 0.0072 - mse: 0.0072 - val_loss: 2.9497e-04 - val_mse: 2.9497e-04\n",
            "Epoch 3/3\n",
            "90/90 [==============================] - 0s 3ms/step - loss: 0.0070 - mse: 0.0070 - val_loss: 2.2325e-04 - val_mse: 2.2325e-04\n"
          ]
        },
        {
          "output_type": "display_data",
          "data": {
            "text/plain": [
              "<Figure size 640x480 with 1 Axes>"
            ],
            "image/png": "[encoded data removed]"
          },
          "metadata": {}
        }
      ]
    },
    {
      "cell_type": "markdown",
      "source": [
        "take this code and make it better by adding a 2d CNN and maxPooling then Fullconection and calification if there is or there isn't a drone in the image. make a confusion graph and MSE graph"
      ],
      "metadata": {
        "id": "q6XOCJOvuEft"
      }
    },
    {
      "cell_type": "code",
      "source": [
        "pip install tensorflow scikit-learn matplotlib\n"
      ],
      "metadata": {
        "colab": {
          "base_uri": "https://localhost:8080/"
        },
        "id": "Y_heTvp6uCZX",
        "outputId": "50122c34-a660-4dbb-beb4-cd6a65b5838f"
      },
      "execution_count": null,
      "outputs": [
        {
          "output_type": "stream",
          "name": "stdout",
          "text": [
            "Requirement already satisfied: tensorflow in /usr/local/lib/python3.10/dist-packages (2.14.0)\n",
            "Requirement already satisfied: scikit-learn in /usr/local/lib/python3.10/dist-packages (1.2.2)\n",
            "Requirement already satisfied: matplotlib in /usr/local/lib/python3.10/dist-packages (3.7.1)\n",
            "Requirement already satisfied: absl-py>=1.0.0 in /usr/local/lib/python3.10/dist-packages (from tensorflow) (1.4.0)\n",
            "Requirement already satisfied: astunparse>=1.6.0 in /usr/local/lib/python3.10/dist-packages (from tensorflow) (1.6.3)\n",
            "Requirement already satisfied: flatbuffers>=23.5.26 in /usr/local/lib/python3.10/dist-packages (from tensorflow) (23.5.26)\n",
            "Requirement already satisfied: gast!=0.5.0,!=0.5.1,!=0.5.2,>=0.2.1 in /usr/local/lib/python3.10/dist-packages (from tensorflow) (0.5.4)\n",
            "Requirement already satisfied: google-pasta>=0.1.1 in /usr/local/lib/python3.10/dist-packages (from tensorflow) (0.2.0)\n",
            "Requirement already satisfied: h5py>=2.9.0 in /usr/local/lib/python3.10/dist-packages (from tensorflow) (3.9.0)\n",
            "Requirement already satisfied: libclang>=13.0.0 in /usr/local/lib/python3.10/dist-packages (from tensorflow) (16.0.6)\n",
            "Requirement already satisfied: ml-dtypes==0.2.0 in /usr/local/lib/python3.10/dist-packages (from tensorflow) (0.2.0)\n",
            "Requirement already satisfied: numpy>=1.23.5 in /usr/local/lib/python3.10/dist-packages (from tensorflow) (1.23.5)\n",
            "Requirement already satisfied: opt-einsum>=2.3.2 in /usr/local/lib/python3.10/dist-packages (from tensorflow) (3.3.0)\n",
            "Requirement already satisfied: packaging in /usr/local/lib/python3.10/dist-packages (from tensorflow) (23.2)\n",
            "Requirement already satisfied: protobuf!=4.21.0,!=4.21.1,!=4.21.2,!=4.21.3,!=4.21.4,!=4.21.5,<5.0.0dev,>=3.20.3 in /usr/local/lib/python3.10/dist-packages (from tensorflow) (3.20.3)\n",
            "Requirement already satisfied: setuptools in /usr/local/lib/python3.10/dist-packages (from tensorflow) (67.7.2)\n",
            "Requirement already satisfied: six>=1.12.0 in /usr/local/lib/python3.10/dist-packages (from tensorflow) (1.16.0)\n",
            "Requirement already satisfied: termcolor>=1.1.0 in /usr/local/lib/python3.10/dist-packages (from tensorflow) (2.3.0)\n",
            "Requirement already satisfied: typing-extensions>=3.6.6 in /usr/local/lib/python3.10/dist-packages (from tensorflow) (4.5.0)\n",
            "Requirement already satisfied: wrapt<1.15,>=1.11.0 in /usr/local/lib/python3.10/dist-packages (from tensorflow) (1.14.1)\n",
            "Requirement already satisfied: tensorflow-io-gcs-filesystem>=0.23.1 in /usr/local/lib/python3.10/dist-packages (from tensorflow) (0.34.0)\n",
            "Requirement already satisfied: grpcio<2.0,>=1.24.3 in /usr/local/lib/python3.10/dist-packages (from tensorflow) (1.59.3)\n",
            "Requirement already satisfied: tensorboard<2.15,>=2.14 in /usr/local/lib/python3.10/dist-packages (from tensorflow) (2.14.1)\n",
            "Requirement already satisfied: tensorflow-estimator<2.15,>=2.14.0 in /usr/local/lib/python3.10/dist-packages (from tensorflow) (2.14.0)\n",
            "Requirement already satisfied: keras<2.15,>=2.14.0 in /usr/local/lib/python3.10/dist-packages (from tensorflow) (2.14.0)\n",
            "Requirement already satisfied: scipy>=1.3.2 in /usr/local/lib/python3.10/dist-packages (from scikit-learn) (1.11.4)\n",
            "Requirement already satisfied: joblib>=1.1.1 in /usr/local/lib/python3.10/dist-packages (from scikit-learn) (1.3.2)\n",
            "Requirement already satisfied: threadpoolctl>=2.0.0 in /usr/local/lib/python3.10/dist-packages (from scikit-learn) (3.2.0)\n",
            "Requirement already satisfied: contourpy>=1.0.1 in /usr/local/lib/python3.10/dist-packages (from matplotlib) (1.2.0)\n",
            "Requirement already satisfied: cycler>=0.10 in /usr/local/lib/python3.10/dist-packages (from matplotlib) (0.12.1)\n",
            "Requirement already satisfied: fonttools>=4.22.0 in /usr/local/lib/python3.10/dist-packages (from matplotlib) (4.45.1)\n",
            "Requirement already satisfied: kiwisolver>=1.0.1 in /usr/local/lib/python3.10/dist-packages (from matplotlib) (1.4.5)\n",
            "Requirement already satisfied: pillow>=6.2.0 in /usr/local/lib/python3.10/dist-packages (from matplotlib) (9.4.0)\n",
            "Requirement already satisfied: pyparsing>=2.3.1 in /usr/local/lib/python3.10/dist-packages (from matplotlib) (3.1.1)\n",
            "Requirement already satisfied: python-dateutil>=2.7 in /usr/local/lib/python3.10/dist-packages (from matplotlib) (2.8.2)\n",
            "Requirement already satisfied: wheel<1.0,>=0.23.0 in /usr/local/lib/python3.10/dist-packages (from astunparse>=1.6.0->tensorflow) (0.42.0)\n",
            "Requirement already satisfied: google-auth<3,>=1.6.3 in /usr/local/lib/python3.10/dist-packages (from tensorboard<2.15,>=2.14->tensorflow) (2.17.3)\n",
            "Requirement already satisfied: google-auth-oauthlib<1.1,>=0.5 in /usr/local/lib/python3.10/dist-packages (from tensorboard<2.15,>=2.14->tensorflow) (1.0.0)\n",
            "Requirement already satisfied: markdown>=2.6.8 in /usr/local/lib/python3.10/dist-packages (from tensorboard<2.15,>=2.14->tensorflow) (3.5.1)\n",
            "Requirement already satisfied: requests<3,>=2.21.0 in /usr/local/lib/python3.10/dist-packages (from tensorboard<2.15,>=2.14->tensorflow) (2.31.0)\n",
            "Requirement already satisfied: tensorboard-data-server<0.8.0,>=0.7.0 in /usr/local/lib/python3.10/dist-packages (from tensorboard<2.15,>=2.14->tensorflow) (0.7.2)\n",
            "Requirement already satisfied: werkzeug>=1.0.1 in /usr/local/lib/python3.10/dist-packages (from tensorboard<2.15,>=2.14->tensorflow) (3.0.1)\n",
            "Requirement already satisfied: cachetools<6.0,>=2.0.0 in /usr/local/lib/python3.10/dist-packages (from google-auth<3,>=1.6.3->tensorboard<2.15,>=2.14->tensorflow) (5.3.2)\n",
            "Requirement already satisfied: pyasn1-modules>=0.2.1 in /usr/local/lib/python3.10/dist-packages (from google-auth<3,>=1.6.3->tensorboard<2.15,>=2.14->tensorflow) (0.3.0)\n",
            "Requirement already satisfied: rsa<5,>=3.1.4 in /usr/local/lib/python3.10/dist-packages (from google-auth<3,>=1.6.3->tensorboard<2.15,>=2.14->tensorflow) (4.9)\n",
            "Requirement already satisfied: requests-oauthlib>=0.7.0 in /usr/local/lib/python3.10/dist-packages (from google-auth-oauthlib<1.1,>=0.5->tensorboard<2.15,>=2.14->tensorflow) (1.3.1)\n",
            "Requirement already satisfied: charset-normalizer<4,>=2 in /usr/local/lib/python3.10/dist-packages (from requests<3,>=2.21.0->tensorboard<2.15,>=2.14->tensorflow) (3.3.2)\n",
            "Requirement already satisfied: idna<4,>=2.5 in /usr/local/lib/python3.10/dist-packages (from requests<3,>=2.21.0->tensorboard<2.15,>=2.14->tensorflow) (3.6)\n",
            "Requirement already satisfied: urllib3<3,>=1.21.1 in /usr/local/lib/python3.10/dist-packages (from requests<3,>=2.21.0->tensorboard<2.15,>=2.14->tensorflow) (2.0.7)\n",
            "Requirement already satisfied: certifi>=2017.4.17 in /usr/local/lib/python3.10/dist-packages (from requests<3,>=2.21.0->tensorboard<2.15,>=2.14->tensorflow) (2023.11.17)\n",
            "Requirement already satisfied: MarkupSafe>=2.1.1 in /usr/local/lib/python3.10/dist-packages (from werkzeug>=1.0.1->tensorboard<2.15,>=2.14->tensorflow) (2.1.3)\n",
            "Requirement already satisfied: pyasn1<0.6.0,>=0.4.6 in /usr/local/lib/python3.10/dist-packages (from pyasn1-modules>=0.2.1->google-auth<3,>=1.6.3->tensorboard<2.15,>=2.14->tensorflow) (0.5.1)\n",
            "Requirement already satisfied: oauthlib>=3.0.0 in /usr/local/lib/python3.10/dist-packages (from requests-oauthlib>=0.7.0->google-auth-oauthlib<1.1,>=0.5->tensorboard<2.15,>=2.14->tensorflow) (3.2.2)\n"
          ]
        }
      ]
    },
    {
      "cell_type": "code",
      "source": [
        "import numpy as np\n",
        "import matplotlib.pyplot as plt\n",
        "from sklearn.metrics import confusion_matrix, mean_squared_error\n",
        "from tensorflow.keras.models import Sequential\n",
        "from tensorflow.keras.layers import Conv2D, MaxPooling2D, Flatten, Dense\n",
        "from tensorflow.keras.datasets import mnist\n",
        "from tensorflow.keras.utils import to_categorical\n",
        "\n",
        "# Load MNIST dataset\n",
        "(x_train, y_train), (x_test, y_test) = mnist.load_data()\n",
        "\n",
        "# Preprocess data\n",
        "x_train = x_train.reshape((-1, 28, 28, 1)).astype('float32') / 255.0\n",
        "x_test = x_test.reshape((-1, 28, 28, 1)).astype('float32') / 255.0\n",
        "y_train = to_categorical(y_train, 10)\n",
        "y_test = to_categorical(y_test, 10)\n",
        "\n",
        "# Build the model\n",
        "model = Sequential()\n",
        "model.add(Conv2D(32, kernel_size=(3, 3), activation='relu', input_shape=(28, 28, 1)))\n",
        "model.add(MaxPooling2D(pool_size=(2, 2)))\n",
        "model.add(Flatten())\n",
        "model.add(Dense(128, activation='relu'))\n",
        "model.add(Dense(10, activation='softmax'))\n",
        "\n",
        "# Compile the model\n",
        "model.compile(optimizer='adam', loss='categorical_crossentropy', metrics=['accuracy'])\n",
        "\n",
        "# Train the model\n",
        "model.fit(x_train, y_train, epochs=5, batch_size=64, validation_split=0.2)\n",
        "\n",
        "# Evaluate the model\n",
        "accuracy = model.evaluate(x_test, y_test)[1]\n",
        "print(f'Test Accuracy: {accuracy * 100:.2f}%')\n",
        "\n",
        "# Confusion matrix\n",
        "y_pred = np.argmax(model.predict(x_test), axis=1)\n",
        "y_true = np.argmax(y_test, axis=1)\n",
        "conf_matrix = confusion_matrix(y_true, y_pred)\n",
        "print('Confusion Matrix:')\n",
        "print(conf_matrix)\n",
        "\n",
        "# Mean Squared Error (MSE) graph\n",
        "y_pred_prob = model.predict(x_test)\n",
        "mse_values = []\n",
        "for i in range(10):\n",
        "    mse = mean_squared_error(y_test[:, i], y_pred_prob[:, i])\n",
        "    mse_values.append(mse)\n",
        "\n",
        "# Plot the MSE values\n",
        "plt.bar(range(10), mse_values)\n",
        "plt.xlabel('Digit Class')\n",
        "plt.ylabel('Mean Squared Error')\n",
        "plt.title('MSE for each Digit Class')\n",
        "plt.show()\n"
      ],
      "metadata": {
        "colab": {
          "base_uri": "https://localhost:8080/",
          "height": 977
        },
        "id": "TgHdJfwkuIup",
        "outputId": "dbeaeda4-942d-45e8-be5a-9dd6cbdadb53"
      },
      "execution_count": null,
      "outputs": [
        {
          "output_type": "stream",
          "name": "stdout",
          "text": [
            "Downloading data from https://storage.googleapis.com/tensorflow/tf-keras-datasets/mnist.npz\n",
            "11490434/11490434 [==============================] - 0s 0us/step\n",
            "Epoch 1/5\n",
            "750/750 [==============================] - 16s 11ms/step - loss: 0.1922 - accuracy: 0.9449 - val_loss: 0.0854 - val_accuracy: 0.9753\n",
            "Epoch 2/5\n",
            "750/750 [==============================] - 4s 5ms/step - loss: 0.0634 - accuracy: 0.9806 - val_loss: 0.0594 - val_accuracy: 0.9821\n",
            "Epoch 3/5\n",
            "750/750 [==============================] - 3s 4ms/step - loss: 0.0406 - accuracy: 0.9874 - val_loss: 0.0584 - val_accuracy: 0.9835\n",
            "Epoch 4/5\n",
            "750/750 [==============================] - 4s 5ms/step - loss: 0.0292 - accuracy: 0.9912 - val_loss: 0.0511 - val_accuracy: 0.9850\n",
            "Epoch 5/5\n",
            "750/750 [==============================] - 4s 6ms/step - loss: 0.0205 - accuracy: 0.9937 - val_loss: 0.0520 - val_accuracy: 0.9852\n",
            "313/313 [==============================] - 1s 3ms/step - loss: 0.0430 - accuracy: 0.9863\n",
            "Test Accuracy: 98.63%\n",
            "313/313 [==============================] - 1s 2ms/step\n",
            "Confusion Matrix:\n",
            "[[ 974    1    0    1    0    0    4    0    0    0]\n",
            " [   0 1129    1    1    0    0    1    2    1    0]\n",
            " [   0    1 1021    0    1    0    0    7    2    0]\n",
            " [   0    0    3 1000    0    3    0    1    2    1]\n",
            " [   0    0    0    0  972    0    2    0    0    8]\n",
            " [   0    0    0    6    0  879    5    0    0    2]\n",
            " [   7    2    1    0    1    4  942    0    1    0]\n",
            " [   0    1    6    1    0    0    0 1014    1    5]\n",
            " [   5    0    3    3    2    3    1    5  943    9]\n",
            " [   1    1    0    3   10    1    0    4    0  989]]\n",
            "313/313 [==============================] - 1s 2ms/step\n"
          ]
        },
        {
          "output_type": "display_data",
          "data": {
            "text/plain": [
              "<Figure size 640x480 with 1 Axes>"
            ],
            "image/png": "[encoded data removed]"
          },
          "metadata": {}
        }
      ]
    }
  ]
}