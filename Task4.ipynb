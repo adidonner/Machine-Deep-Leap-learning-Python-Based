{
  "nbformat": 4,
  "nbformat_minor": 0,
  "metadata": {
    "colab": {
      "provenance": [],
      "gpuType": "T4",
      "include_colab_link": true
    },
    "kernelspec": {
      "name": "python3",
      "display_name": "Python 3"
    },
    "language_info": {
      "name": "python"
    },
    "accelerator": "GPU"
  },
  "cells": [
    {
      "cell_type": "markdown",
      "metadata": {
        "id": "view-in-github",
        "colab_type": "text"
      },
      "source": [
        "<a href=\"https://colab.research.google.com/github/adidonner/Machine-Deep-Leap-learning-Python-Based/blob/20231212/Task4.ipynb\" target=\"_parent\"><img src=\"https://colab.research.google.com/assets/colab-badge.svg\" alt=\"Open In Colab\"/></a>"
      ]
    },
    {
      "cell_type": "markdown",
      "source": [
        "# 1. Data Exploration:"
      ],
      "metadata": {
        "id": "7uEitup8JvUf"
      }
    },
    {
      "cell_type": "code",
      "source": [
        "from google.colab import drive\n",
        "drive.mount('/content/drive')"
      ],
      "metadata": {
        "colab": {
          "base_uri": "https://localhost:8080/"
        },
        "id": "zTgeCBvJQ-nG",
        "outputId": "717dc258-9aa3-4cb5-bf50-b20db80c284d"
      },
      "execution_count": 1,
      "outputs": [
        {
          "output_type": "stream",
          "name": "stdout",
          "text": [
            "Mounted at /content/drive\n"
          ]
        }
      ]
    },
    {
      "cell_type": "markdown",
      "source": [
        "remove all files in /content/drive/MyDrive"
      ],
      "metadata": {
        "id": "bQs0lqSOpZez"
      }
    },
    {
      "cell_type": "code",
      "source": [
        "# import os\n",
        "\n",
        "# for file in os.listdir('/content/drive/MyDrive'):\n",
        "#   full_path = '/content/drive/MyDrive/' + file\n",
        "#   if os.path.isfile(full_path):\n",
        "#     os.remove(full_path)\n",
        "\n",
        "/content/drive/MyDrive/drone_data"
      ],
      "metadata": {
        "id": "CobBPhuSoBF4"
      },
      "execution_count": null,
      "outputs": []
    },
    {
      "cell_type": "code",
      "source": [
        "# !rm -rf /content/drive/MyDrive/with_drone"
      ],
      "metadata": {
        "id": "X2Yn0CEErQQh"
      },
      "execution_count": null,
      "outputs": []
    },
    {
      "cell_type": "markdown",
      "source": [
        "# 2. Data Preprocessing:  "
      ],
      "metadata": {
        "id": "JPzQrk05KM4a"
      }
    },
    {
      "cell_type": "markdown",
      "source": [
        "Take the files  \"*.jpg\" and \"*.txt\" in \"/content/drive/MyDrive/drone_data\" and prepare them to work with a neural network ,YOLOv8 format. From each image corp the drone and Save it in the folder \"/content/drive/MyDrive/my_drone_data/drone\""
      ],
      "metadata": {
        "id": "J8RPFoNpa-vE"
      }
    },
    {
      "cell_type": "code",
      "source": [
        "import os\n",
        "import cv2\n",
        "import shutil\n",
        "\n",
        "# Set the paths\n",
        "input_folder = \"/content/drive/MyDrive/drone_data\"\n",
        "output_folder = \"/content/drive/MyDrive/my_drone_data/drone\"\n",
        "\n",
        "# Iterate through each file in the input folder\n",
        "for filename in os.listdir(input_folder):\n",
        "    if filename.endswith((\".jpg\", \".txt\")):\n",
        "        file_path = os.path.join(input_folder, filename)\n",
        "\n",
        "        # Check if the file is an image\n",
        "        if filename.endswith(\".jpg\"):\n",
        "            # Load the image\n",
        "            image = cv2.imread(file_path)\n",
        "\n",
        "            # Assume there's a corresponding text file with YOLO format bounding box coordinates\n",
        "            txt_file_path = os.path.join(input_folder, filename.replace(\".jpg\", \".txt\"))\n",
        "\n",
        "            # Check if the corresponding text file exists\n",
        "            if os.path.exists(txt_file_path):\n",
        "                # Read YOLO format coordinates from the text file\n",
        "                with open(txt_file_path, 'r') as txt_file:\n",
        "                    lines = txt_file.readlines()\n",
        "                    for line in lines:\n",
        "                        # Parse the coordinates and crop the drone\n",
        "                        # Note: You may need to adjust the code based on the format of your bounding box coordinates\n",
        "                        class_label, center_x, center_y, width, height = map(float, line.strip().split())\n",
        "                        x = int((center_x - width / 2) * image.shape[1])\n",
        "                        y = int((center_y - height / 2) * image.shape[0])\n",
        "                        w = int(width * image.shape[1])\n",
        "                        h = int(height * image.shape[0])\n",
        "                        cropped_drone = image[y:y + h, x:x + w]\n",
        "\n",
        "                        # Save the cropped image in the \"with_drone\" folder\n",
        "                        output_path = os.path.join(output_folder, f\"{filename.replace('.jpg', '')}_cropped.jpg\")\n",
        "                        cv2.imwrite(output_path, cropped_drone)\n",
        "\n",
        "                      f\"{int(class_label)} {center_x} {center_y} {width} {height}\\n\")\n",
        "\n",
        "print(\"Processing complete.\")\n"
      ],
      "metadata": {
        "colab": {
          "base_uri": "https://localhost:8080/"
        },
        "id": "mwrsuOgFbLeh",
        "outputId": "ee1d418c-83c2-4df8-b2f3-a5d5460cde26"
      },
      "execution_count": null,
      "outputs": [
        {
          "output_type": "stream",
          "name": "stdout",
          "text": [
            "Processing complete.\n"
          ]
        }
      ]
    },
    {
      "cell_type": "markdown",
      "source": [
        "Take the .jpg images from \"/content/drive/MyDrive/my_drone_data/drone\" and resize them to 28*28 use GPU"
      ],
      "metadata": {
        "id": "Zik_QHO6MCcd"
      }
    },
    {
      "cell_type": "code",
      "source": [
        "pip install pillow tensorflow"
      ],
      "metadata": {
        "colab": {
          "base_uri": "https://localhost:8080/"
        },
        "id": "1BRi-bxEPB2T",
        "outputId": "67727c4a-a6d7-4f90-a111-23a8a3cdf55b"
      },
      "execution_count": null,
      "outputs": [
        {
          "output_type": "stream",
          "name": "stdout",
          "text": [
            "Requirement already satisfied: pillow in /usr/local/lib/python3.10/dist-packages (9.4.0)\n",
            "Requirement already satisfied: tensorflow in /usr/local/lib/python3.10/dist-packages (2.14.0)\n",
            "Requirement already satisfied: absl-py>=1.0.0 in /usr/local/lib/python3.10/dist-packages (from tensorflow) (1.4.0)\n",
            "Requirement already satisfied: astunparse>=1.6.0 in /usr/local/lib/python3.10/dist-packages (from tensorflow) (1.6.3)\n",
            "Requirement already satisfied: flatbuffers>=23.5.26 in /usr/local/lib/python3.10/dist-packages (from tensorflow) (23.5.26)\n",
            "Requirement already satisfied: gast!=0.5.0,!=0.5.1,!=0.5.2,>=0.2.1 in /usr/local/lib/python3.10/dist-packages (from tensorflow) (0.5.4)\n",
            "Requirement already satisfied: google-pasta>=0.1.1 in /usr/local/lib/python3.10/dist-packages (from tensorflow) (0.2.0)\n",
            "Requirement already satisfied: h5py>=2.9.0 in /usr/local/lib/python3.10/dist-packages (from tensorflow) (3.9.0)\n",
            "Requirement already satisfied: libclang>=13.0.0 in /usr/local/lib/python3.10/dist-packages (from tensorflow) (16.0.6)\n",
            "Requirement already satisfied: ml-dtypes==0.2.0 in /usr/local/lib/python3.10/dist-packages (from tensorflow) (0.2.0)\n",
            "Requirement already satisfied: numpy>=1.23.5 in /usr/local/lib/python3.10/dist-packages (from tensorflow) (1.23.5)\n",
            "Requirement already satisfied: opt-einsum>=2.3.2 in /usr/local/lib/python3.10/dist-packages (from tensorflow) (3.3.0)\n",
            "Requirement already satisfied: packaging in /usr/local/lib/python3.10/dist-packages (from tensorflow) (23.2)\n",
            "Requirement already satisfied: protobuf!=4.21.0,!=4.21.1,!=4.21.2,!=4.21.3,!=4.21.4,!=4.21.5,<5.0.0dev,>=3.20.3 in /usr/local/lib/python3.10/dist-packages (from tensorflow) (3.20.3)\n",
            "Requirement already satisfied: setuptools in /usr/local/lib/python3.10/dist-packages (from tensorflow) (67.7.2)\n",
            "Requirement already satisfied: six>=1.12.0 in /usr/local/lib/python3.10/dist-packages (from tensorflow) (1.16.0)\n",
            "Requirement already satisfied: termcolor>=1.1.0 in /usr/local/lib/python3.10/dist-packages (from tensorflow) (2.4.0)\n",
            "Requirement already satisfied: typing-extensions>=3.6.6 in /usr/local/lib/python3.10/dist-packages (from tensorflow) (4.5.0)\n",
            "Requirement already satisfied: wrapt<1.15,>=1.11.0 in /usr/local/lib/python3.10/dist-packages (from tensorflow) (1.14.1)\n",
            "Requirement already satisfied: tensorflow-io-gcs-filesystem>=0.23.1 in /usr/local/lib/python3.10/dist-packages (from tensorflow) (0.34.0)\n",
            "Requirement already satisfied: grpcio<2.0,>=1.24.3 in /usr/local/lib/python3.10/dist-packages (from tensorflow) (1.59.3)\n",
            "Requirement already satisfied: tensorboard<2.15,>=2.14 in /usr/local/lib/python3.10/dist-packages (from tensorflow) (2.14.1)\n",
            "Requirement already satisfied: tensorflow-estimator<2.15,>=2.14.0 in /usr/local/lib/python3.10/dist-packages (from tensorflow) (2.14.0)\n",
            "Requirement already satisfied: keras<2.15,>=2.14.0 in /usr/local/lib/python3.10/dist-packages (from tensorflow) (2.14.0)\n",
            "Requirement already satisfied: wheel<1.0,>=0.23.0 in /usr/local/lib/python3.10/dist-packages (from astunparse>=1.6.0->tensorflow) (0.42.0)\n",
            "Requirement already satisfied: google-auth<3,>=1.6.3 in /usr/local/lib/python3.10/dist-packages (from tensorboard<2.15,>=2.14->tensorflow) (2.17.3)\n",
            "Requirement already satisfied: google-auth-oauthlib<1.1,>=0.5 in /usr/local/lib/python3.10/dist-packages (from tensorboard<2.15,>=2.14->tensorflow) (1.0.0)\n",
            "Requirement already satisfied: markdown>=2.6.8 in /usr/local/lib/python3.10/dist-packages (from tensorboard<2.15,>=2.14->tensorflow) (3.5.1)\n",
            "Requirement already satisfied: requests<3,>=2.21.0 in /usr/local/lib/python3.10/dist-packages (from tensorboard<2.15,>=2.14->tensorflow) (2.31.0)\n",
            "Requirement already satisfied: tensorboard-data-server<0.8.0,>=0.7.0 in /usr/local/lib/python3.10/dist-packages (from tensorboard<2.15,>=2.14->tensorflow) (0.7.2)\n",
            "Requirement already satisfied: werkzeug>=1.0.1 in /usr/local/lib/python3.10/dist-packages (from tensorboard<2.15,>=2.14->tensorflow) (3.0.1)\n",
            "Requirement already satisfied: cachetools<6.0,>=2.0.0 in /usr/local/lib/python3.10/dist-packages (from google-auth<3,>=1.6.3->tensorboard<2.15,>=2.14->tensorflow) (5.3.2)\n",
            "Requirement already satisfied: pyasn1-modules>=0.2.1 in /usr/local/lib/python3.10/dist-packages (from google-auth<3,>=1.6.3->tensorboard<2.15,>=2.14->tensorflow) (0.3.0)\n",
            "Requirement already satisfied: rsa<5,>=3.1.4 in /usr/local/lib/python3.10/dist-packages (from google-auth<3,>=1.6.3->tensorboard<2.15,>=2.14->tensorflow) (4.9)\n",
            "Requirement already satisfied: requests-oauthlib>=0.7.0 in /usr/local/lib/python3.10/dist-packages (from google-auth-oauthlib<1.1,>=0.5->tensorboard<2.15,>=2.14->tensorflow) (1.3.1)\n",
            "Requirement already satisfied: charset-normalizer<4,>=2 in /usr/local/lib/python3.10/dist-packages (from requests<3,>=2.21.0->tensorboard<2.15,>=2.14->tensorflow) (3.3.2)\n",
            "Requirement already satisfied: idna<4,>=2.5 in /usr/local/lib/python3.10/dist-packages (from requests<3,>=2.21.0->tensorboard<2.15,>=2.14->tensorflow) (3.6)\n",
            "Requirement already satisfied: urllib3<3,>=1.21.1 in /usr/local/lib/python3.10/dist-packages (from requests<3,>=2.21.0->tensorboard<2.15,>=2.14->tensorflow) (2.0.7)\n",
            "Requirement already satisfied: certifi>=2017.4.17 in /usr/local/lib/python3.10/dist-packages (from requests<3,>=2.21.0->tensorboard<2.15,>=2.14->tensorflow) (2023.11.17)\n",
            "Requirement already satisfied: MarkupSafe>=2.1.1 in /usr/local/lib/python3.10/dist-packages (from werkzeug>=1.0.1->tensorboard<2.15,>=2.14->tensorflow) (2.1.3)\n",
            "Requirement already satisfied: pyasn1<0.6.0,>=0.4.6 in /usr/local/lib/python3.10/dist-packages (from pyasn1-modules>=0.2.1->google-auth<3,>=1.6.3->tensorboard<2.15,>=2.14->tensorflow) (0.5.1)\n",
            "Requirement already satisfied: oauthlib>=3.0.0 in /usr/local/lib/python3.10/dist-packages (from requests-oauthlib>=0.7.0->google-auth-oauthlib<1.1,>=0.5->tensorboard<2.15,>=2.14->tensorflow) (3.2.2)\n"
          ]
        }
      ]
    },
    {
      "cell_type": "markdown",
      "source": [
        "Continue with GPU turning the color images into grayscale"
      ],
      "metadata": {
        "id": "gQZ_7ZiZQduy"
      }
    },
    {
      "cell_type": "code",
      "source": [
        "import os\n",
        "from PIL import Image\n",
        "import tensorflow as tf\n",
        "\n",
        "# Set the path to your image directory\n",
        "image_directory = \"/content/drive/MyDrive/my_drone_data/drone\"\n",
        "\n",
        "# Set the target size for resizing\n",
        "target_size = (28, 28)\n",
        "\n",
        "# Enable GPU acceleration if available\n",
        "physical_devices = tf.config.list_physical_devices('GPU')\n",
        "if len(physical_devices) > 0:\n",
        "    tf.config.experimental.set_memory_growth(physical_devices[0], True)\n",
        "\n",
        "# Function to resize and convert images to grayscale in a directory\n",
        "def resize_and_convert_to_grayscale(directory, target_size):\n",
        "    for filename in os.listdir(directory):\n",
        "        if filename.endswith(\".jpg\"):\n",
        "            # Construct the full file path\n",
        "            file_path = os.path.join(directory, filename)\n",
        "\n",
        "            # Open, resize, and convert the image to grayscale\n",
        "            img = Image.open(file_path)\n",
        "            resized_img = img.resize(target_size, Image.ANTIALIAS)\n",
        "            grayscale_img = resized_img.convert(\"L\")\n",
        "\n",
        "            # Save the grayscale image, overwriting the original file\n",
        "            grayscale_img.save(file_path)\n",
        "\n",
        "# Resize and convert images using the defined function\n",
        "resize_and_convert_to_grayscale(image_directory, target_size)\n"
      ],
      "metadata": {
        "colab": {
          "base_uri": "https://localhost:8080/"
        },
        "id": "GdDgFcQcQiY4",
        "outputId": "79c0d8bf-9c99-49e6-eadb-088128ef6d7c"
      },
      "execution_count": null,
      "outputs": [
        {
          "output_type": "stream",
          "name": "stderr",
          "text": [
            "<ipython-input-8-2fa541296df2>:25: DeprecationWarning: ANTIALIAS is deprecated and will be removed in Pillow 10 (2023-07-01). Use LANCZOS or Resampling.LANCZOS instead.\n",
            "  resized_img = img.resize(target_size, Image.ANTIALIAS)\n"
          ]
        }
      ]
    },
    {
      "cell_type": "markdown",
      "source": [
        "Crop a random 28x28 region from every .jpg image in \"/content/drive/MyDrive/drone_data\"  folder and save the cropped  image to the \"/content/drive/MyDrive/my_drone_data/no_drone\" folder. use GPU"
      ],
      "metadata": {
        "id": "EDfmCmKBTgrp"
      }
    },
    {
      "cell_type": "code",
      "source": [
        "import os\n",
        "from PIL import Image\n",
        "import random\n",
        "import tensorflow as tf\n",
        "\n",
        "# Set the path to your original image directory\n",
        "original_image_directory = \"/content/drive/MyDrive/drone_data\"\n",
        "\n",
        "# Set the path to the destination directory for cropped images\n",
        "cropped_image_directory = \"/content/drive/MyDrive/my_drone_data/no_drone\"\n",
        "\n",
        "# Set the target size for cropping\n",
        "crop_size = (28, 28)\n",
        "\n",
        "# Enable GPU acceleration if available\n",
        "physical_devices = tf.config.list_physical_devices('GPU')\n",
        "if len(physical_devices) > 0:\n",
        "    tf.config.experimental.set_memory_growth(physical_devices[0], True)\n",
        "\n",
        "# Function to crop random 28x28 region from images in a directory\n",
        "def crop_random_region(directory, crop_size, destination_directory):\n",
        "    for filename in os.listdir(directory):\n",
        "        if filename.endswith(\".jpg\"):\n",
        "            # Construct the full file path\n",
        "            file_path = os.path.join(directory, filename)\n",
        "\n",
        "            # Open the original image\n",
        "            img = Image.open(file_path)\n",
        "\n",
        "            # Get the width and height of the original image\n",
        "            width, height = img.size\n",
        "\n",
        "            # Calculate random coordinates for cropping\n",
        "            left = random.randint(0, width - crop_size[0])\n",
        "            top = random.randint(0, height - crop_size[1])\n",
        "            right = left + crop_size[0]\n",
        "            bottom = top + crop_size[1]\n",
        "\n",
        "            # Crop the image\n",
        "            cropped_img = img.crop((left, top, right, bottom))\n",
        "\n",
        "            # Save the cropped image to the destination directory\n",
        "            cropped_filename = os.path.join(destination_directory, filename)\n",
        "            cropped_img.save(cropped_filename)\n",
        "\n",
        "# Crop random regions and save to the destination directory\n",
        "crop_random_region(original_image_directory, crop_size, cropped_image_directory)\n"
      ],
      "metadata": {
        "id": "t31JZ3sqTbjD"
      },
      "execution_count": null,
      "outputs": []
    },
    {
      "cell_type": "markdown",
      "source": [
        "In the folder \"/content/drive/MyDrive/TensorFlow_Datasets\" prepare 2 folders called \"Train\" and \"Test\". Each of the folders will have 2 subfolders \"drone\" and \"no_drone\""
      ],
      "metadata": {
        "id": "jXHxzI7TXxDN"
      }
    },
    {
      "cell_type": "code",
      "source": [
        "import os\n",
        "\n",
        "# Set the path to the main directory\n",
        "main_directory = \"/content/drive/MyDrive/TensorFlow_Datasets\"\n",
        "\n",
        "# Create the \"Train\" and \"Test\" folders\n",
        "train_directory = os.path.join(main_directory, \"Train\")\n",
        "test_directory = os.path.join(main_directory, \"Test\")\n",
        "\n",
        "os.makedirs(train_directory, exist_ok=True)\n",
        "os.makedirs(test_directory, exist_ok=True)\n",
        "\n",
        "# Create subfolders \"drone\" and \"no_drone\" in \"Train\" and \"Test\"\n",
        "subfolders = [\"drone\", \"no_drone\"]\n",
        "\n",
        "for folder in subfolders:\n",
        "    train_subfolder = os.path.join(train_directory, folder)\n",
        "    test_subfolder = os.path.join(test_directory, folder)\n",
        "\n",
        "    os.makedirs(train_subfolder, exist_ok=True)\n",
        "    os.makedirs(test_subfolder, exist_ok=True)\n",
        "\n",
        "print(\"Directory structure created successfully.\")\n"
      ],
      "metadata": {
        "colab": {
          "base_uri": "https://localhost:8080/"
        },
        "id": "Sh9ELbHLXyMi",
        "outputId": "3b8ecea7-e408-4ed0-d6d9-7a34f45c6909"
      },
      "execution_count": null,
      "outputs": [
        {
          "output_type": "stream",
          "name": "stdout",
          "text": [
            "Directory structure created successfully.\n"
          ]
        }
      ]
    },
    {
      "cell_type": "markdown",
      "source": [
        "# 3. TensorFlow Datasets:"
      ],
      "metadata": {
        "id": "QO1CTxxYfGVD"
      }
    },
    {
      "cell_type": "markdown",
      "source": [
        "Use the GPU. Take all the images from \"/content/drive/MyDrive/my_drone_data/drone\" and randomly take 85% of them and put them in \"/content/drive/MyDrive/TensorFlow_Datasets/Train/drone\"\n",
        "Put the rest in \"/content/drive/MyDrive/TensorFlow_Datasets/Test/drone\"\n",
        "  Take all the images from \"/content/drive/MyDrive/my_drone_data/no_drone\" randomly take 85% of them and put them in \"/content/drive/MyDrive/TensorFlow_Datasets/Train/no_drone\"\n",
        "Put the rest in \"/content/drive/MyDrive/TensorFlow_Datasets/Test/no_drone\""
      ],
      "metadata": {
        "id": "XQNKHJg0aMBU"
      }
    },
    {
      "cell_type": "code",
      "source": [
        "import os\n",
        "import shutil\n",
        "import random\n",
        "import tensorflow as tf\n",
        "\n",
        "# Set the paths to the source image directories\n",
        "drone_source_directory = \"/content/drive/MyDrive/my_drone_data/drone\"\n",
        "no_drone_source_directory = \"/content/drive/MyDrive/my_drone_data/no_drone\"\n",
        "\n",
        "# Set the paths to the destination Train and Test directories\n",
        "train_directory = \"/content/drive/MyDrive/TensorFlow_Datasets/Train\"\n",
        "test_directory = \"/content/drive/MyDrive/TensorFlow_Datasets/Test\"\n",
        "\n",
        "# Set the subfolders for \"drone\" and \"no_drone\"\n",
        "subfolders = [\"drone\", \"no_drone\"]\n",
        "\n",
        "# Set the percentage for the training set\n",
        "train_percentage = 0.85\n",
        "\n",
        "# Enable GPU acceleration if available\n",
        "physical_devices = tf.config.list_physical_devices('GPU')\n",
        "if len(physical_devices) > 0:\n",
        "    tf.config.experimental.set_memory_growth(physical_devices[0], True)\n",
        "\n",
        "# Function to split and move images to Train and Test directories\n",
        "def split_and_move_images(source_directory, train_dest_directory, test_dest_directory, class_folder):\n",
        "    # Get the list of all files in the source directory\n",
        "    all_files = os.listdir(source_directory)\n",
        "\n",
        "    # Calculate the number of images to move to the training set\n",
        "    num_train_images = int(len(all_files) * train_percentage)\n",
        "\n",
        "    # Randomly shuffle the list of files\n",
        "    random.shuffle(all_files)\n",
        "\n",
        "    # Split the list into training and testing sets\n",
        "    train_files = all_files[:num_train_images]\n",
        "    test_files = all_files[num_train_images:]\n",
        "\n",
        "    # Move files to the training directory\n",
        "    for filename in train_files:\n",
        "        source_path = os.path.join(source_directory, filename)\n",
        "        dest_path = os.path.join(train_dest_directory, class_folder, filename)\n",
        "        shutil.move(source_path, dest_path)\n",
        "\n",
        "    # Move files to the testing directory\n",
        "    for filename in test_files:\n",
        "        source_path = os.path.join(source_directory, filename)\n",
        "        dest_path = os.path.join(test_dest_directory, class_folder, filename)\n",
        "        shutil.move(source_path, dest_path)\n",
        "\n",
        "# Create Train and Test directories and subfolders\n",
        "for folder in subfolders:\n",
        "    train_subfolder = os.path.join(train_directory, folder)\n",
        "    test_subfolder = os.path.join(test_directory, folder)\n",
        "\n",
        "    os.makedirs(train_subfolder, exist_ok=True)\n",
        "    os.makedirs(test_subfolder, exist_ok=True)\n",
        "\n",
        "# Split and move images for \"drone\" class\n",
        "split_and_move_images(drone_source_directory, train_directory, test_directory, subfolders[0])\n",
        "\n",
        "# Split and move images for \"no_drone\" class\n",
        "split_and_move_images(no_drone_source_directory, train_directory, test_directory, subfolders[1])\n",
        "\n",
        "print(\"Images successfully split and moved to Train and Test directories.\")\n"
      ],
      "metadata": {
        "colab": {
          "base_uri": "https://localhost:8080/"
        },
        "id": "g3VboP1iaMZS",
        "outputId": "ecafa193-9cee-4f74-e9bf-7c65a54fd848"
      },
      "execution_count": null,
      "outputs": [
        {
          "output_type": "stream",
          "name": "stdout",
          "text": [
            "Images successfully split and moved to Train and Test directories.\n"
          ]
        }
      ]
    },
    {
      "cell_type": "markdown",
      "source": [
        "in folder \"/content/drive/MyDrive/TensorFlow_Datasets\" give me a report of how many files are in every folder and sub folder"
      ],
      "metadata": {
        "id": "fQjwHH3Cdbi5"
      }
    },
    {
      "cell_type": "code",
      "source": [
        "import os\n",
        "\n",
        "def count_files_in_folder(folder_path):\n",
        "    file_count = 0\n",
        "    for _, _, files in os.walk(folder_path):\n",
        "        file_count += len(files)\n",
        "    return file_count\n",
        "\n",
        "def report_files_in_folders(main_folder):\n",
        "    for root, dirs, _ in os.walk(main_folder):\n",
        "        if dirs:\n",
        "            for folder in dirs:\n",
        "                folder_path = os.path.join(root, folder)\n",
        "                file_count = count_files_in_folder(folder_path)\n",
        "                print(f\"Folder: {folder_path}, Files: {file_count}\")\n",
        "\n",
        "# Specify the main folder path\n",
        "main_folder_path = \"/content/drive/MyDrive/TensorFlow_Datasets\"\n",
        "\n",
        "# Generate the report\n",
        "report_files_in_folders(main_folder_path)\n"
      ],
      "metadata": {
        "id": "aVwOUN5WdfyG",
        "outputId": "51058e87-8725-420e-92e5-d09469d1ce47",
        "colab": {
          "base_uri": "https://localhost:8080/"
        }
      },
      "execution_count": null,
      "outputs": [
        {
          "output_type": "stream",
          "name": "stdout",
          "text": [
            "Folder: /content/drive/MyDrive/TensorFlow_Datasets/Train, Files: 10378\n",
            "Folder: /content/drive/MyDrive/TensorFlow_Datasets/Test, Files: 1832\n",
            "Folder: /content/drive/MyDrive/TensorFlow_Datasets/Train/drone, Files: 6919\n",
            "Folder: /content/drive/MyDrive/TensorFlow_Datasets/Train/no_drone, Files: 3459\n",
            "Folder: /content/drive/MyDrive/TensorFlow_Datasets/Test/drone, Files: 1221\n",
            "Folder: /content/drive/MyDrive/TensorFlow_Datasets/Test/no_drone, Files: 611\n"
          ]
        }
      ]
    },
    {
      "cell_type": "markdown",
      "source": [
        "# 4. Build Classifier Model:"
      ],
      "metadata": {
        "id": "hQaUCm8DeZXG"
      }
    },
    {
      "cell_type": "markdown",
      "source": [
        "take \"/content/drive/MyDrive/TensorFlow_Datasets\" folder and Build a simple classifier model using TensorFlow/Keras.\n",
        "Train the model on the training set and evaluate it on the test set.\n",
        "Plot some images from the dataset to visually inspect the processed images.\n",
        "Display the accuracy of the trained model on the test set."
      ],
      "metadata": {
        "id": "Xgb8OR0Vssny"
      }
    },
    {
      "cell_type": "code",
      "source": [
        "import tensorflow as tf\n",
        "from tensorflow.keras import layers, models\n",
        "from tensorflow.keras.preprocessing.image import ImageDataGenerator\n",
        "import matplotlib.pyplot as plt\n",
        "\n",
        "# Define the paths to the train and test datasets\n",
        "train_data_dir = \"/content/drive/MyDrive/TensorFlow_Datasets/Train\"\n",
        "test_data_dir = \"/content/drive/MyDrive/TensorFlow_Datasets/Test\"\n",
        "\n",
        "# Image dimensions and batch size\n",
        "img_height, img_width = 28, 28\n",
        "batch_size = 32\n",
        "\n",
        "# Create data generators for training and testing\n",
        "train_datagen = ImageDataGenerator(rescale=1./255)\n",
        "test_datagen = ImageDataGenerator(rescale=1./255)\n",
        "\n",
        "train_generator = train_datagen.flow_from_directory(\n",
        "    train_data_dir,\n",
        "    target_size=(img_height, img_width),\n",
        "    batch_size=batch_size,\n",
        "    class_mode='binary'  # 'categorical' for multiple classes\n",
        ")\n",
        "\n",
        "test_generator = test_datagen.flow_from_directory(\n",
        "    test_data_dir,\n",
        "    target_size=(img_height, img_width),\n",
        "    batch_size=batch_size,\n",
        "    class_mode='binary'\n",
        ")\n",
        "\n",
        "# Build a simple convolutional neural network model\n",
        "model = models.Sequential([\n",
        "    layers.Conv2D(32, (3, 3), activation='relu', input_shape=(img_height, img_width, 3)),\n",
        "    layers.MaxPooling2D((2, 2)),\n",
        "    layers.Flatten(),\n",
        "    layers.Dense(128, activation='relu'),\n",
        "    layers.Dense(1, activation='sigmoid')  # Use 'softmax' for multiple classes\n",
        "])\n",
        "\n",
        "# Compile the model\n",
        "model.compile(optimizer='adam', loss='binary_crossentropy', metrics=['accuracy'])\n",
        "\n",
        "# Train the model\n",
        "history = model.fit(train_generator, epochs=3, validation_data=test_generator)\n",
        "\n",
        "# Plot some images from the dataset\n",
        "sample_images, sample_labels = next(train_generator)\n",
        "plt.figure(figsize=(10, 10))\n",
        "for i in range(9):\n",
        "    plt.subplot(3, 3, i + 1)\n",
        "    plt.imshow(sample_images[i])\n",
        "    plt.title(f\"Label: {sample_labels[i]}\")\n",
        "    plt.axis(\"off\")\n",
        "plt.show()\n",
        "\n",
        "# Evaluate the model on the test set\n",
        "test_loss, test_accuracy = model.evaluate(test_generator)\n",
        "print(f'Test Accuracy: {test_accuracy * 100:.2f}%')"
      ],
      "metadata": {
        "colab": {
          "base_uri": "https://localhost:8080/",
          "height": 1000
        },
        "id": "3vRWPhz6subq",
        "outputId": "3f55e1cc-8d68-4461-99bb-2bbe3ef9a042"
      },
      "execution_count": 4,
      "outputs": [
        {
          "output_type": "stream",
          "name": "stdout",
          "text": [
            "Found 10378 images belonging to 2 classes.\n",
            "Found 1832 images belonging to 2 classes.\n",
            "Epoch 1/3\n",
            "325/325 [==============================] - 188s 566ms/step - loss: 0.1074 - accuracy: 0.9674 - val_loss: 0.0348 - val_accuracy: 0.9891\n",
            "Epoch 2/3\n",
            "325/325 [==============================] - 18s 56ms/step - loss: 0.0302 - accuracy: 0.9903 - val_loss: 0.0285 - val_accuracy: 0.9913\n",
            "Epoch 3/3\n",
            "325/325 [==============================] - 18s 56ms/step - loss: 0.0238 - accuracy: 0.9920 - val_loss: 0.0375 - val_accuracy: 0.9913\n"
          ]
        },
        {
          "output_type": "display_data",
          "data": {
            "text/plain": [
              "<Figure size 1000x1000 with 9 Axes>"
            ],
            "image/png": "[encoded data removed]"
          },
          "metadata": {}
        },
        {
          "output_type": "stream",
          "name": "stdout",
          "text": [
            "58/58 [==============================] - 3s 44ms/step - loss: 0.0375 - accuracy: 0.9913\n",
            "Test Accuracy: 99.13%\n"
          ]
        }
      ]
    },
    {
      "cell_type": "markdown",
      "source": [
        "MSE"
      ],
      "metadata": {
        "id": "pHOAqJ77DfXc"
      }
    },
    {
      "cell_type": "code",
      "source": [
        "import tensorflow as tf\n",
        "from tensorflow.keras import layers, models\n",
        "from tensorflow.keras.preprocessing.image import ImageDataGenerator\n",
        "import matplotlib.pyplot as plt\n",
        "from sklearn.metrics import mean_squared_error, confusion_matrix\n",
        "import seaborn as sns\n",
        "\n",
        "# ... (your existing code)\n",
        "\n",
        "# Train the model\n",
        "history = model.fit(train_generator, epochs=3, validation_data=test_generator)\n",
        "\n",
        "# Plot some images from the dataset\n",
        "sample_images, sample_labels = next(train_generator)\n",
        "plt.figure(figsize=(10, 10))\n",
        "for i in range(9):\n",
        "    plt.subplot(3, 3, i + 1)\n",
        "    plt.imshow(sample_images[i])\n",
        "    plt.title(f\"Label: {sample_labels[i]}\")\n",
        "    plt.axis(\"off\")\n",
        "plt.show()\n",
        "\n",
        "# Evaluate the model on the test set\n",
        "test_loss, test_accuracy = model.evaluate(test_generator)\n",
        "print(f'Test Accuracy: {test_accuracy * 100:.2f}%')\n",
        "\n",
        "# Make predictions on the test set\n",
        "predictions = model.predict(test_generator)\n",
        "y_true = test_generator.classes  # true labels\n",
        "y_pred = (predictions > 0.5).astype(int).reshape(-1)  # predicted labels\n",
        "\n",
        "# Print Mean Squared Error (MSE) graph\n",
        "mse = mean_squared_error(y_true, y_pred)\n",
        "print(f'Mean Squared Error (MSE): {mse}')\n",
        "\n",
        "# Plot Confusion Matrix\n",
        "cm = confusion_matrix(y_true, y_pred)\n",
        "plt.figure(figsize=(8, 8))\n",
        "sns.heatmap(cm, annot=True, fmt=\"d\", cmap=\"Blues\", cbar=False, annot_kws={\"size\": 14})\n",
        "plt.xlabel(\"Predicted\", fontsize=14)\n",
        "plt.ylabel(\"True\", fontsize=14)\n",
        "plt.title(\"Confusion Matrix\", fontsize=16)\n",
        "plt.show()\n"
      ],
      "metadata": {
        "colab": {
          "base_uri": "https://localhost:8080/",
          "height": 1000
        },
        "id": "kzaBot4pDiWX",
        "outputId": "059704df-ccea-448f-9ed2-47d38bf83b0a"
      },
      "execution_count": 7,
      "outputs": [
        {
          "output_type": "stream",
          "name": "stdout",
          "text": [
            "Epoch 1/3\n",
            "325/325 [==============================] - 19s 59ms/step - loss: 0.0174 - accuracy: 0.9942 - val_loss: 0.0312 - val_accuracy: 0.9924\n",
            "Epoch 2/3\n",
            "325/325 [==============================] - 17s 54ms/step - loss: 0.0159 - accuracy: 0.9951 - val_loss: 0.0296 - val_accuracy: 0.9924\n",
            "Epoch 3/3\n",
            "325/325 [==============================] - 17s 53ms/step - loss: 0.0133 - accuracy: 0.9953 - val_loss: 0.0274 - val_accuracy: 0.9924\n"
          ]
        },
        {
          "output_type": "display_data",
          "data": {
            "text/plain": [
              "<Figure size 1000x1000 with 9 Axes>"
            ],
            "image/png": "[encoded data removed]"
          },
          "metadata": {}
        },
        {
          "output_type": "stream",
          "name": "stdout",
          "text": [
            "58/58 [==============================] - 2s 43ms/step - loss: 0.0274 - accuracy: 0.9924\n",
            "Test Accuracy: 99.24%\n",
            "58/58 [==============================] - 2s 42ms/step\n",
            "Mean Squared Error (MSE): 0.4268558951965066\n"
          ]
        },
        {
          "output_type": "display_data",
          "data": {
            "text/plain": [
              "<Figure size 800x800 with 1 Axes>"
            ],
            "image/png": "[encoded data removed]"
          },
          "metadata": {}
        }
      ]
    }
  ]
}