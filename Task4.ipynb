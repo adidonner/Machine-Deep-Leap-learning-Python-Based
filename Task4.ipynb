{
  "nbformat": 4,
  "nbformat_minor": 0,
  "metadata": {
    "colab": {
      "provenance": [],
      "gpuType": "T4",
      "authorship_tag": "ABX9TyNQgP9SmuJADAMbEUuQw1qh",
      "include_colab_link": true
    },
    "kernelspec": {
      "name": "python3",
      "display_name": "Python 3"
    },
    "language_info": {
      "name": "python"
    },
    "accelerator": "GPU"
  },
  "cells": [
    {
      "cell_type": "markdown",
      "metadata": {
        "id": "view-in-github",
        "colab_type": "text"
      },
      "source": [
        "<a href=\"https://colab.research.google.com/github/adidonner/Machine-Deep-Leap-learning-Python-Based/blob/main/Task4.ipynb\" target=\"_parent\"><img src=\"https://colab.research.google.com/assets/colab-badge.svg\" alt=\"Open In Colab\"/></a>"
      ]
    },
    {
      "cell_type": "code",
      "source": [
        "from google.colab import drive\n",
        "drive.mount('/content/drive')\n"
      ],
      "metadata": {
        "colab": {
          "base_uri": "https://localhost:8080/"
        },
        "id": "zTgeCBvJQ-nG",
        "outputId": "aca24a21-b512-4f3b-8f5d-0ad9e90b604c"
      },
      "execution_count": 1,
      "outputs": [
        {
          "output_type": "stream",
          "name": "stdout",
          "text": [
            "Mounted at /content/drive\n"
          ]
        }
      ]
    },
    {
      "cell_type": "markdown",
      "source": [
        "Take the files  \"*.jpg\" and \"*.txt\" in \"/content/drive/MyDrive\" and prepare them to work with a neural network ,YOLOv8 format. From each image corp the drone and Save it in a with_drone in folder"
      ],
      "metadata": {
        "id": "J8RPFoNpa-vE"
      }
    },
    {
      "cell_type": "code",
      "source": [
        "pip install opencv-python numpy\n"
      ],
      "metadata": {
        "colab": {
          "base_uri": "https://localhost:8080/"
        },
        "id": "-8pQ6oZha5NZ",
        "outputId": "f6e174c7-71a6-4bdf-e59c-360c1452fbd5"
      },
      "execution_count": 9,
      "outputs": [
        {
          "output_type": "stream",
          "name": "stdout",
          "text": [
            "Requirement already satisfied: opencv-python in /usr/local/lib/python3.10/dist-packages (4.8.0.76)\n",
            "Requirement already satisfied: numpy in /usr/local/lib/python3.10/dist-packages (1.23.5)\n"
          ]
        }
      ]
    },
    {
      "cell_type": "code",
      "source": [
        "import os\n",
        "import cv2\n",
        "import shutil\n",
        "\n",
        "# Set the paths\n",
        "input_folder = \"/content/drive/MyDrive\"\n",
        "output_folder = \"/content/drive/MyDrive/with_drone\"\n",
        "yolo_folder = \"/content/drive/MyDrive/yolo_format\"\n",
        "\n",
        "# Create the output folder if it doesn't exist\n",
        "os.makedirs(output_folder, exist_ok=True)\n",
        "os.makedirs(yolo_folder, exist_ok=True)\n",
        "\n",
        "# Iterate through each file in the input folder\n",
        "for filename in os.listdir(input_folder):\n",
        "    if filename.endswith((\".jpg\", \".txt\")):\n",
        "        file_path = os.path.join(input_folder, filename)\n",
        "\n",
        "        # Check if the file is an image\n",
        "        if filename.endswith(\".jpg\"):\n",
        "            # Load the image\n",
        "            image = cv2.imread(file_path)\n",
        "\n",
        "            # Assume there's a corresponding text file with YOLO format bounding box coordinates\n",
        "            txt_file_path = os.path.join(input_folder, filename.replace(\".jpg\", \".txt\"))\n",
        "\n",
        "            # Check if the corresponding text file exists\n",
        "            if os.path.exists(txt_file_path):\n",
        "                # Read YOLO format coordinates from the text file\n",
        "                with open(txt_file_path, 'r') as txt_file:\n",
        "                    lines = txt_file.readlines()\n",
        "                    for line in lines:\n",
        "                        # Parse the coordinates and crop the drone\n",
        "                        # Note: You may need to adjust the code based on the format of your bounding box coordinates\n",
        "                        class_label, center_x, center_y, width, height = map(float, line.strip().split())\n",
        "                        x = int((center_x - width / 2) * image.shape[1])\n",
        "                        y = int((center_y - height / 2) * image.shape[0])\n",
        "                        w = int(width * image.shape[1])\n",
        "                        h = int(height * image.shape[0])\n",
        "                        cropped_drone = image[y:y + h, x:x + w]\n",
        "\n",
        "                        # Save the cropped image in the \"with_drone\" folder\n",
        "                        output_path = os.path.join(output_folder, f\"{filename.replace('.jpg', '')}_cropped.jpg\")\n",
        "                        cv2.imwrite(output_path, cropped_drone)\n",
        "\n",
        "                        # Save YOLOv8 format annotation file in the \"yolo_format\" folder\n",
        "                        yolo_annotation_path = os.path.join(yolo_folder, f\"{filename.replace('.jpg', '')}.txt\")\n",
        "                        with open(yolo_annotation_path, 'a') as yolo_file:\n",
        "                            # Write YOLOv8 format coordinates (class x_center y_center width height)\n",
        "                            yolo_file.write(f\"{int(class_label)} {center_x} {center_y} {width} {height}\\n\")\n",
        "\n",
        "print(\"Processing complete.\")\n"
      ],
      "metadata": {
        "colab": {
          "base_uri": "https://localhost:8080/"
        },
        "id": "mwrsuOgFbLeh",
        "outputId": "8037d1fb-1d80-42b9-bc46-54b144ace2ee"
      },
      "execution_count": 14,
      "outputs": [
        {
          "output_type": "stream",
          "name": "stdout",
          "text": [
            "Processing complete.\n"
          ]
        }
      ]
    },
    {
      "cell_type": "code",
      "source": [
        "import os\n",
        "import cv2\n",
        "import shutil\n",
        "import random\n",
        "\n",
        "# Set the paths\n",
        "input_folder = \"/content/drive/MyDrive\"\n",
        "with_drone_folder = \"/content/drive/MyDrive/with_drone\"\n",
        "without_drone_folder = \"/content/drive/MyDrive/without_drone\"\n",
        "\n",
        "# Create the output folders if they don't exist\n",
        "os.makedirs(with_drone_folder, exist_ok=True)\n",
        "os.makedirs(without_drone_folder, exist_ok=True)\n",
        "\n",
        "# Iterate through each file in the input folder\n",
        "for filename in os.listdir(input_folder):\n",
        "    if filename.endswith((\".jpg\", \".txt\")):\n",
        "        file_path = os.path.join(input_folder, filename)\n",
        "\n",
        "        # Check if the file is an image\n",
        "        if filename.endswith(\".jpg\"):\n",
        "            # Load the image\n",
        "            image = cv2.imread(file_path)\n",
        "\n",
        "            # Assume there's a corresponding text file with YOLO format bounding box coordinates\n",
        "            txt_file_path = os.path.join(input_folder, filename.replace(\".jpg\", \".txt\"))\n",
        "\n",
        "            # Check if the corresponding text file exists\n",
        "            if os.path.exists(txt_file_path):\n",
        "                # Read YOLO format coordinates from the text file\n",
        "                with open(txt_file_path, 'r') as txt_file:\n",
        "                    lines = txt_file.readlines()\n",
        "                    for line in lines:\n",
        "                        # Parse the coordinates and crop the drone\n",
        "                        # Note: You may need to adjust the code based on the format of your bounding box coordinates\n",
        "                        class_label, center_x, center_y, width, height = map(float, line.strip().split())\n",
        "                        x = int((center_x - width / 2) * image.shape[1])\n",
        "                        y = int((center_y - height / 2) * image.shape[0])\n",
        "                        w = int(width * image.shape[1])\n",
        "                        h = int(height * image.shape[0])\n",
        "                        cropped_drone = image[y:y + h, x:x + w]\n",
        "\n",
        "                        # Save the cropped image in the \"with_drone\" folder\n",
        "                        with_drone_output_path = os.path.join(with_drone_folder, f\"{filename.replace('.jpg', '')}_cropped.jpg\")\n",
        "                        cv2.imwrite(with_drone_output_path, cropped_drone)\n",
        "\n",
        "            # Crop a random 28x28 region and save it to the \"without_drone\" folder\n",
        "            h, w, _ = image.shape\n",
        "            if h > 28 and w > 28:\n",
        "                random_y = random.randint(0, h - 28)\n",
        "                random_x = random.randint(0, w - 28)\n",
        "                cropped_without_drone = image[random_y:random_y + 28, random_x:random_x + 28]\n",
        "\n",
        "                without_drone_output_path = os.path.join(without_drone_folder, f\"{filename.replace('.jpg', '')}_cropped.jpg\")\n",
        "                cv2.imwrite(without_drone_output_path, cropped_without_drone)\n",
        "\n",
        "print(\"Processing complete.\")\n"
      ],
      "metadata": {
        "colab": {
          "base_uri": "https://localhost:8080/"
        },
        "id": "W9DFdl02faxY",
        "outputId": "44f2f06a-3eba-4e09-f607-9c4923c32da8"
      },
      "execution_count": 16,
      "outputs": [
        {
          "output_type": "stream",
          "name": "stdout",
          "text": [
            "Processing complete.\n"
          ]
        }
      ]
    },
    {
      "cell_type": "markdown",
      "source": [
        "take all the dataset in \"with_drone\" and \"without_drone\" and separate to new files \"train\" and \"test\". 85% will go to train  and 15% for test"
      ],
      "metadata": {
        "id": "XRQLq8mYh3vY"
      }
    },
    {
      "cell_type": "code",
      "source": [
        "import os\n",
        "import cv2\n",
        "import shutil\n",
        "import random\n",
        "\n",
        "# Set the paths\n",
        "with_drone_folder = \"/content/drive/MyDrive/with_drone\"\n",
        "without_drone_folder = \"/content/drive/MyDrive/without_drone\"\n",
        "train_folder = \"/content/drive/MyDrive/train\"\n",
        "test_folder = \"/content/drive/MyDrive/test\"\n",
        "\n",
        "# Create the output folders if they don't exist\n",
        "os.makedirs(train_folder, exist_ok=True)\n",
        "os.makedirs(test_folder, exist_ok=True)\n",
        "\n",
        "# Function to move files to train or test folder based on the ratio\n",
        "def move_files(src_folder, dest_train_folder, dest_test_folder, ratio):\n",
        "    files = os.listdir(src_folder)\n",
        "    random.shuffle(files)\n",
        "    split_index = int(len(files) * ratio)\n",
        "    train_files = files[:split_index]\n",
        "    test_files = files[split_index:]\n",
        "\n",
        "    for filename in train_files:\n",
        "        src_path = os.path.join(src_folder, filename)\n",
        "        dest_path = os.path.join(dest_train_folder, filename)\n",
        "        shutil.move(src_path, dest_path)\n",
        "\n",
        "    for filename in test_files:\n",
        "        src_path = os.path.join(src_folder, filename)\n",
        "        dest_path = os.path.join(dest_test_folder, filename)\n",
        "        shutil.move(src_path, dest_path)\n",
        "\n",
        "# Move files for the \"with_drone\" folder\n",
        "move_files(with_drone_folder, train_folder, test_folder, ratio=0.85)\n",
        "\n",
        "# Move files for the \"without_drone\" folder\n",
        "move_files(without_drone_folder, train_folder, test_folder, ratio=0.85)\n",
        "\n",
        "print(\"Dataset split into train and test sets.\")\n"
      ],
      "metadata": {
        "colab": {
          "base_uri": "https://localhost:8080/"
        },
        "id": "UhNbj60bhkNb",
        "outputId": "81cfd1ca-2246-441f-9384-2ace6a48fe85"
      },
      "execution_count": 17,
      "outputs": [
        {
          "output_type": "stream",
          "name": "stdout",
          "text": [
            "Dataset split into train and test sets.\n"
          ]
        }
      ]
    },
    {
      "cell_type": "markdown",
      "source": [
        "give me a report on the files in train and test"
      ],
      "metadata": {
        "id": "RBt1xkPsiULD"
      }
    },
    {
      "cell_type": "code",
      "source": [
        "def generate_report(folder):\n",
        "    file_count = len(os.listdir(folder))\n",
        "    return f\"{folder}: {file_count} files\"\n",
        "\n",
        "# Paths to the train and test folders\n",
        "train_folder = \"/content/drive/MyDrive/train\"\n",
        "test_folder = \"/content/drive/MyDrive/test\"\n",
        "\n",
        "# Generate reports for train and test folders\n",
        "train_report = generate_report(train_folder)\n",
        "test_report = generate_report(test_folder)\n",
        "\n",
        "# Print the reports\n",
        "print(train_report)\n",
        "print(test_report)\n"
      ],
      "metadata": {
        "colab": {
          "base_uri": "https://localhost:8080/"
        },
        "id": "xNPJFk4DiNeP",
        "outputId": "392726fe-03ab-4d17-b2a9-66b27ee0af6c"
      },
      "execution_count": 18,
      "outputs": [
        {
          "output_type": "stream",
          "name": "stdout",
          "text": [
            "/content/drive/MyDrive/train: 843 files\n",
            "/content/drive/MyDrive/test: 238 files\n"
          ]
        }
      ]
    },
    {
      "cell_type": "markdown",
      "source": [
        "take all the images in train and test and make sure they're 28 * 28, if not resize them"
      ],
      "metadata": {
        "id": "YObQC5ByjF4H"
      }
    },
    {
      "cell_type": "code",
      "source": [
        "import os\n",
        "import cv2\n",
        "\n",
        "# Function to resize images in a folder\n",
        "def resize_images(folder, target_size=(28, 28)):\n",
        "    for filename in os.listdir(folder):\n",
        "        file_path = os.path.join(folder, filename)\n",
        "\n",
        "        # Check if the file is an image\n",
        "        if filename.endswith(\".jpg\"):\n",
        "            # Read the image\n",
        "            image = cv2.imread(file_path)\n",
        "\n",
        "            # Resize the image to the target size\n",
        "            resized_image = cv2.resize(image, target_size)\n",
        "\n",
        "            # Save the resized image back to the file\n",
        "            cv2.imwrite(file_path, resized_image)\n",
        "\n",
        "# Paths to the train and test folders\n",
        "train_folder = \"/content/drive/MyDrive/train\"\n",
        "test_folder = \"/content/drive/MyDrive/test\"\n",
        "\n",
        "# Resize images in the train and test folders\n",
        "resize_images(train_folder)\n",
        "resize_images(test_folder)\n",
        "\n",
        "print(\"Images in train and test sets resized to 28x28.\")\n"
      ],
      "metadata": {
        "colab": {
          "base_uri": "https://localhost:8080/"
        },
        "id": "535R2n2Bi_Ku",
        "outputId": "a12fe58f-574d-46db-ed24-e43fbfc0e5d8"
      },
      "execution_count": 19,
      "outputs": [
        {
          "output_type": "stream",
          "name": "stdout",
          "text": [
            "Images in train and test sets resized to 28x28.\n"
          ]
        }
      ]
    },
    {
      "cell_type": "code",
      "source": [
        "import os\n",
        "import cv2\n",
        "\n",
        "# Function to generate a resolution report for a folder\n",
        "def generate_resolution_report(folder):\n",
        "    resolutions = []\n",
        "    for filename in os.listdir(folder):\n",
        "        file_path = os.path.join(folder, filename)\n",
        "\n",
        "        # Check if the file is an image\n",
        "        if filename.endswith(\".jpg\"):\n",
        "            # Read the image\n",
        "            image = cv2.imread(file_path)\n",
        "\n",
        "            # Get the resolution (height and width) of the image\n",
        "            height, width, _ = image.shape\n",
        "            resolutions.append((height, width))\n",
        "\n",
        "    return resolutions\n",
        "\n",
        "# Paths to the train and test folders\n",
        "train_folder = \"/content/drive/MyDrive/train\"\n",
        "test_folder = \"/content/drive/MyDrive/test\"\n",
        "\n",
        "# Generate resolution reports for train and test folders\n",
        "train_resolution_report = generate_resolution_report(train_folder)\n",
        "test_resolution_report = generate_resolution_report(test_folder)\n",
        "\n",
        "# Print the reports\n",
        "print(\"Resolution report for train set:\")\n",
        "for resolution in train_resolution_report:\n",
        "    print(f\"Image resolution: {resolution}\")\n",
        "\n",
        "print(\"\\nResolution report for test set:\")\n",
        "for resolution in test_resolution_report:\n",
        "    print(f\"Image resolution: {resolution}\")\n"
      ],
      "metadata": {
        "id": "34NdCS4CjW6a"
      },
      "execution_count": null,
      "outputs": []
    },
    {
      "cell_type": "code",
      "source": [
        "import os\n",
        "import cv2\n",
        "import numpy as np\n",
        "\n",
        "# Function to convert images to grayscale and normalize values\n",
        "def process_images(folder):\n",
        "    for filename in os.listdir(folder):\n",
        "        file_path = os.path.join(folder, filename)\n",
        "\n",
        "        # Check if the file is an image\n",
        "        if filename.endswith(\".jpg\"):\n",
        "            # Read the image in color\n",
        "            image = cv2.imread(file_path)\n",
        "\n",
        "            # Convert the image to grayscale\n",
        "            grayscale_image = cv2.cvtColor(image, cv2.COLOR_BGR2GRAY)\n",
        "\n",
        "            # Normalize pixel values between 0 and 1\n",
        "            normalized_image = grayscale_image / 255.0\n",
        "\n",
        "            # Save the processed image back to the file\n",
        "            cv2.imwrite(file_path, (normalized_image * 255).astype(np.uint8))\n",
        "\n",
        "# Paths to the train and test folders\n",
        "train_folder = \"/content/drive/MyDrive/train\"\n",
        "test_folder = \"/content/drive/MyDrive/test\"\n",
        "\n",
        "# Process images in the train and test folders\n",
        "process_images(train_folder)\n",
        "process_images(test_folder)\n",
        "\n",
        "print(\"Images in train and test sets converted to grayscale and normalized.\")\n"
      ],
      "metadata": {
        "colab": {
          "base_uri": "https://localhost:8080/"
        },
        "id": "bJo_toQVkWvf",
        "outputId": "f968981d-d0ca-403e-9de8-50b85a5e6465"
      },
      "execution_count": 21,
      "outputs": [
        {
          "output_type": "stream",
          "name": "stdout",
          "text": [
            "Images in train and test sets converted to grayscale and normalized.\n"
          ]
        }
      ]
    },
    {
      "cell_type": "markdown",
      "source": [
        "Prepare a neural network model using the KERAS mechanism that uses an assembler instead of loops and enter as a result pointers to folders with one perceptron that says whether or not there is a drone in the image. Normalize the matrix to a vector, train the model, test it and prepare a confusion matrix graph with the results"
      ],
      "metadata": {
        "id": "uYoZrJgDoZDV"
      }
    },
    {
      "cell_type": "code",
      "source": [
        "import os\n",
        "import cv2\n",
        "import numpy as np\n",
        "import matplotlib.pyplot as plt\n",
        "from sklearn.model_selection import train_test_split\n",
        "from sklearn.metrics import confusion_matrix\n",
        "from tensorflow import keras\n",
        "from tensorflow.keras import layers\n",
        "\n",
        "# Function to load and preprocess images from a folder\n",
        "def load_and_preprocess(folder):\n",
        "    images = []\n",
        "    labels = []\n",
        "\n",
        "    for filename in os.listdir(folder):\n",
        "        file_path = os.path.join(folder, filename)\n",
        "\n",
        "        # Check if the file is an image\n",
        "        if filename.endswith(\".jpg\"):\n",
        "            # Read the image\n",
        "            image = cv2.imread(file_path, cv2.IMREAD_GRAYSCALE)\n",
        "\n",
        "            # Normalize pixel values between 0 and 1\n",
        "            normalized_image = image / 255.0\n",
        "\n",
        "            images.append(normalized_image.flatten())  # Flatten the matrix to a vector\n",
        "            labels.append(1 if \"with_drone\" in folder else 0)\n",
        "\n",
        "    return np.array(images), np.array(labels)\n",
        "\n",
        "# Load and preprocess images from train and test folders\n",
        "train_images, train_labels = load_and_preprocess(\"/content/drive/MyDrive/train\")\n",
        "test_images, test_labels = load_and_preprocess(\"/content/drive/MyDrive/test\")\n",
        "\n",
        "# Split the data into train and validation sets\n",
        "train_images, val_images, train_labels, val_labels = train_test_split(\n",
        "    train_images, train_labels, test_size=0.15, random_state=42\n",
        ")\n",
        "\n",
        "# Build the neural network model\n",
        "model = keras.Sequential([\n",
        "    layers.Dense(128, activation='relu', input_shape=(train_images.shape[1],)),\n",
        "    layers.Dropout(0.5),\n",
        "    layers.Dense(1, activation='sigmoid')\n",
        "])\n",
        "\n",
        "# Compile the model\n",
        "model.compile(optimizer='adam', loss='binary_crossentropy', metrics=['accuracy'])\n",
        "\n",
        "# Train the model\n",
        "history = model.fit(train_images, train_labels, epochs=10, batch_size=32, validation_data=(val_images, val_labels))\n",
        "\n",
        "# Evaluate the model on the test set\n",
        "test_loss, test_accuracy = model.evaluate(test_images, test_labels)\n",
        "print(f\"\\nTest Accuracy: {test_accuracy:.4f}\")\n",
        "\n",
        "# Make predictions on the test set\n",
        "predictions = model.predict(test_images)\n",
        "rounded_predictions = np.round(predictions)\n",
        "\n",
        "# Create a confusion matrix\n",
        "conf_matrix = confusion_matrix(test_labels, rounded_predictions)\n",
        "\n",
        "# Plot the confusion matrix\n",
        "plt.imshow(conf_matrix, interpolation='nearest', cmap=plt.cm.Blues)\n",
        "plt.title('Confusion Matrix')\n",
        "plt.colorbar()\n",
        "\n",
        "classes = ['No Drone', 'With Drone']\n",
        "tick_marks = np.arange(len(classes))\n",
        "plt.xticks(tick_marks, classes, rotation=45)\n",
        "plt.yticks(tick_marks, classes)\n",
        "\n",
        "plt.xlabel('Predicted Label')\n",
        "plt.ylabel('True Label')\n",
        "plt.show()\n"
      ],
      "metadata": {
        "colab": {
          "base_uri": "https://localhost:8080/",
          "height": 974
        },
        "id": "KAhoPghHmYUF",
        "outputId": "75e6d27b-117d-4fbb-d881-ae95dc7fede7"
      },
      "execution_count": 24,
      "outputs": [
        {
          "output_type": "stream",
          "name": "stdout",
          "text": [
            "Epoch 1/10\n",
            "23/23 [==============================] - 2s 12ms/step - loss: 0.0594 - accuracy: 0.9609 - val_loss: 6.9994e-04 - val_accuracy: 1.0000\n",
            "Epoch 2/10\n",
            "23/23 [==============================] - 0s 7ms/step - loss: 0.0012 - accuracy: 1.0000 - val_loss: 3.4364e-04 - val_accuracy: 1.0000\n",
            "Epoch 3/10\n",
            "23/23 [==============================] - 0s 6ms/step - loss: 0.0012 - accuracy: 1.0000 - val_loss: 1.8530e-04 - val_accuracy: 1.0000\n",
            "Epoch 4/10\n",
            "23/23 [==============================] - 0s 6ms/step - loss: 0.0012 - accuracy: 1.0000 - val_loss: 9.6373e-05 - val_accuracy: 1.0000\n",
            "Epoch 5/10\n",
            "23/23 [==============================] - 0s 6ms/step - loss: 0.0010 - accuracy: 1.0000 - val_loss: 5.6989e-05 - val_accuracy: 1.0000\n",
            "Epoch 6/10\n",
            "23/23 [==============================] - 0s 8ms/step - loss: 0.0010 - accuracy: 1.0000 - val_loss: 4.0251e-05 - val_accuracy: 1.0000\n",
            "Epoch 7/10\n",
            "23/23 [==============================] - 0s 6ms/step - loss: 9.4764e-04 - accuracy: 1.0000 - val_loss: 2.1293e-05 - val_accuracy: 1.0000\n",
            "Epoch 8/10\n",
            "23/23 [==============================] - 0s 6ms/step - loss: 8.5667e-04 - accuracy: 1.0000 - val_loss: 1.4476e-05 - val_accuracy: 1.0000\n",
            "Epoch 9/10\n",
            "23/23 [==============================] - 0s 6ms/step - loss: 8.1401e-04 - accuracy: 1.0000 - val_loss: 1.0925e-05 - val_accuracy: 1.0000\n",
            "Epoch 10/10\n",
            "23/23 [==============================] - 0s 7ms/step - loss: 8.2446e-04 - accuracy: 1.0000 - val_loss: 7.7769e-06 - val_accuracy: 1.0000\n",
            "8/8 [==============================] - 0s 8ms/step - loss: 2.8730e-08 - accuracy: 1.0000\n",
            "\n",
            "Test Accuracy: 1.0000\n",
            "8/8 [==============================] - 0s 3ms/step\n"
          ]
        },
        {
          "output_type": "display_data",
          "data": {
            "text/plain": [
              "<Figure size 640x480 with 2 Axes>"
            ],
            "image/png": "[encoded data removed]"
          },
          "metadata": {}
        }
      ]
    },
    {
      "cell_type": "code",
      "source": [
        "import os\n",
        "import cv2\n",
        "import numpy as np\n",
        "import matplotlib.pyplot as plt\n",
        "from sklearn.model_selection import train_test_split\n",
        "from tensorflow import keras\n",
        "from tensorflow.keras import layers\n",
        "\n",
        "# Function to load and preprocess images from a folder\n",
        "def load_and_preprocess(folder):\n",
        "    images = []\n",
        "    labels = []\n",
        "\n",
        "    for filename in os.listdir(folder):\n",
        "        file_path = os.path.join(folder, filename)\n",
        "\n",
        "        # Check if the file is an image\n",
        "        if filename.endswith(\".jpg\"):\n",
        "            # Read the image\n",
        "            image = cv2.imread(file_path, cv2.IMREAD_GRAYSCALE)\n",
        "\n",
        "            # Normalize pixel values between 0 and 1\n",
        "            normalized_image = image / 255.0\n",
        "\n",
        "            images.append(normalized_image.flatten())  # Flatten the matrix to a vector\n",
        "            labels.append(1 if \"with_drone\" in folder else 0)\n",
        "\n",
        "    return np.array(images), np.array(labels)\n",
        "\n",
        "# Load and preprocess images from train and test folders\n",
        "train_images, train_labels = load_and_preprocess(\"/content/drive/MyDrive/train\")\n",
        "test_images, test_labels = load_and_preprocess(\"/content/drive/MyDrive/test\")\n",
        "\n",
        "# Split the data into train and validation sets\n",
        "train_images, val_images, train_labels, val_labels = train_test_split(\n",
        "    train_images, train_labels, test_size=0.15, random_state=42\n",
        ")\n",
        "\n",
        "# Build the neural network model\n",
        "model = keras.Sequential([\n",
        "    layers.Dense(128, activation='relu', input_shape=(train_images.shape[1],)),\n",
        "    layers.Dropout(0.5),\n",
        "    layers.Dense(1, activation='sigmoid')\n",
        "])\n",
        "\n",
        "# Compile the model\n",
        "model.compile(optimizer='adam', loss='mean_squared_error', metrics=['mse'])\n",
        "\n",
        "# Train the model and obtain history\n",
        "history = model.fit(train_images, train_labels, epochs=10, batch_size=32, validation_data=(val_images, val_labels))\n",
        "\n",
        "# Extract Mean Squared Error (MSE) values from the history object\n",
        "mse_values = history.history['mse']\n",
        "val_mse_values = history.history['val_mse']\n",
        "\n",
        "# Plot the MSE values over epochs\n",
        "plt.plot(range(1, len(mse_values) + 1), mse_values, label='Training MSE')\n",
        "plt.plot(range(1, len(val_mse_values) + 1), val_mse_values, label='Validation MSE')\n",
        "plt.title('Mean Squared Error Over Epochs')\n",
        "plt.xlabel('Epoch')\n",
        "plt.ylabel('MSE')\n",
        "plt.legend()\n",
        "plt.show()\n"
      ],
      "metadata": {
        "colab": {
          "base_uri": "https://localhost:8080/",
          "height": 851
        },
        "id": "Ll_wy2oPqdyD",
        "outputId": "db8e7c28-70bd-41cc-9da8-154916029289"
      },
      "execution_count": 25,
      "outputs": [
        {
          "output_type": "stream",
          "name": "stdout",
          "text": [
            "Epoch 1/10\n",
            "23/23 [==============================] - 3s 19ms/step - loss: 0.0139 - mse: 0.0139 - val_loss: 5.3911e-05 - val_mse: 5.3911e-05\n",
            "Epoch 2/10\n",
            "23/23 [==============================] - 0s 12ms/step - loss: 4.3951e-04 - mse: 4.3951e-04 - val_loss: 2.5042e-05 - val_mse: 2.5042e-05\n",
            "Epoch 3/10\n",
            "23/23 [==============================] - 0s 15ms/step - loss: 4.0993e-04 - mse: 4.0993e-04 - val_loss: 1.5230e-05 - val_mse: 1.5230e-05\n",
            "Epoch 4/10\n",
            "23/23 [==============================] - 0s 11ms/step - loss: 3.7088e-04 - mse: 3.7088e-04 - val_loss: 7.4234e-06 - val_mse: 7.4234e-06\n",
            "Epoch 5/10\n",
            "23/23 [==============================] - 0s 7ms/step - loss: 3.5064e-04 - mse: 3.5064e-04 - val_loss: 4.7851e-06 - val_mse: 4.7851e-06\n",
            "Epoch 6/10\n",
            "23/23 [==============================] - 0s 12ms/step - loss: 3.0400e-04 - mse: 3.0400e-04 - val_loss: 2.9006e-06 - val_mse: 2.9006e-06\n",
            "Epoch 7/10\n",
            "23/23 [==============================] - 0s 12ms/step - loss: 2.8099e-04 - mse: 2.8099e-04 - val_loss: 1.9403e-06 - val_mse: 1.9403e-06\n",
            "Epoch 8/10\n",
            "23/23 [==============================] - 0s 10ms/step - loss: 3.0999e-04 - mse: 3.0999e-04 - val_loss: 1.2753e-06 - val_mse: 1.2753e-06\n",
            "Epoch 9/10\n",
            "23/23 [==============================] - 0s 10ms/step - loss: 2.8293e-04 - mse: 2.8293e-04 - val_loss: 8.8089e-07 - val_mse: 8.8089e-07\n",
            "Epoch 10/10\n",
            "23/23 [==============================] - 0s 12ms/step - loss: 2.7993e-04 - mse: 2.7993e-04 - val_loss: 5.7914e-07 - val_mse: 5.7914e-07\n"
          ]
        },
        {
          "output_type": "display_data",
          "data": {
            "text/plain": [
              "<Figure size 640x480 with 1 Axes>"
            ],
            "image/png": "[encoded data removed]"
          },
          "metadata": {}
        }
      ]
    },
    {
      "cell_type": "code",
      "source": [
        "import os\n",
        "import cv2\n",
        "import numpy as np\n",
        "import matplotlib.pyplot as plt\n",
        "from sklearn.model_selection import train_test_split\n",
        "from sklearn.metrics import confusion_matrix\n",
        "from tensorflow import keras\n",
        "from tensorflow.keras import layers\n",
        "\n",
        "# Function to load and preprocess images from a folder\n",
        "def load_and_preprocess(folder):\n",
        "    images = []\n",
        "    labels = []\n",
        "\n",
        "    for filename in os.listdir(folder):\n",
        "        file_path = os.path.join(folder, filename)\n",
        "\n",
        "        # Check if the file is an image\n",
        "        if filename.endswith(\".jpg\"):\n",
        "            # Read the image\n",
        "            image = cv2.imread(file_path, cv2.IMREAD_GRAYSCALE)\n",
        "\n",
        "            # Normalize pixel values between 0 and 1\n",
        "            normalized_image = image / 255.0\n",
        "\n",
        "            images.append(normalized_image.flatten())  # Flatten the matrix to a vector\n",
        "            labels.append(1 if \"with_drone\" in folder else 0)\n",
        "\n",
        "    return np.array(images), np.array(labels)\n",
        "\n",
        "# Load and preprocess images from train and test folders\n",
        "train_images, train_labels = load_and_preprocess(\"/content/drive/MyDrive/train\")\n",
        "test_images, test_labels = load_and_preprocess(\"/content/drive/MyDrive/test\")\n",
        "\n",
        "# Split the data into train and validation sets\n",
        "train_images, val_images, train_labels, val_labels = train_test_split(\n",
        "    train_images, train_labels, test_size=0.15, random_state=42\n",
        ")\n",
        "\n",
        "# Build the neural network model\n",
        "model = keras.Sequential([\n",
        "    layers.Dense(128, activation='relu', input_shape=(train_images.shape[1],)),\n",
        "    layers.Dropout(0.5),\n",
        "    layers.Dense(1, activation='sigmoid')\n",
        "])\n",
        "\n",
        "# Compile the model\n",
        "model.compile(optimizer='adam', loss='binary_crossentropy', metrics=['accuracy'])\n",
        "\n",
        "# Train the model\n",
        "history = model.fit(train_images, train_labels, epochs=3, batch_size=8, validation_data=(val_images, val_labels))\n",
        "\n",
        "# Evaluate the model on the test set\n",
        "test_loss, test_accuracy = model.evaluate(test_images, test_labels)\n",
        "print(f\"\\nTest Accuracy: {test_accuracy:.4f}\")\n",
        "\n",
        "# Make predictions on the test set\n",
        "predictions = model.predict(test_images)\n",
        "rounded_predictions = np.round(predictions)\n",
        "\n",
        "# Create a confusion matrix\n",
        "conf_matrix = confusion_matrix(test_labels, rounded_predictions)\n",
        "\n",
        "# Plot the confusion matrix\n",
        "plt.imshow(conf_matrix, interpolation='nearest', cmap=plt.cm.Blues)\n",
        "plt.title('Confusion Matrix')\n",
        "plt.colorbar()\n",
        "\n",
        "classes = ['No Drone', 'With Drone']\n",
        "tick_marks = np.arange(len(classes))\n",
        "plt.xticks(tick_marks, classes, rotation=45)\n",
        "plt.yticks(tick_marks, classes)\n",
        "\n",
        "plt.xlabel('Predicted Label')\n",
        "plt.ylabel('True Label')\n",
        "plt.show()\n"
      ],
      "metadata": {
        "colab": {
          "base_uri": "https://localhost:8080/",
          "height": 723
        },
        "id": "ebQgrxpOqwcq",
        "outputId": "b7a98ac0-5aa7-4545-834a-11fc4f95821e"
      },
      "execution_count": 28,
      "outputs": [
        {
          "output_type": "stream",
          "name": "stdout",
          "text": [
            "Epoch 1/3\n",
            "90/90 [==============================] - 2s 5ms/step - loss: 0.0085 - accuracy: 0.9958 - val_loss: 1.8496e-04 - val_accuracy: 1.0000\n",
            "Epoch 2/3\n",
            "90/90 [==============================] - 0s 4ms/step - loss: 0.0010 - accuracy: 1.0000 - val_loss: 6.7268e-05 - val_accuracy: 1.0000\n",
            "Epoch 3/3\n",
            "90/90 [==============================] - 0s 4ms/step - loss: 9.2345e-04 - accuracy: 1.0000 - val_loss: 2.3983e-05 - val_accuracy: 1.0000\n",
            "8/8 [==============================] - 0s 3ms/step - loss: 2.0486e-07 - accuracy: 1.0000\n",
            "\n",
            "Test Accuracy: 1.0000\n",
            "8/8 [==============================] - 0s 2ms/step\n"
          ]
        },
        {
          "output_type": "display_data",
          "data": {
            "text/plain": [
              "<Figure size 640x480 with 2 Axes>"
            ],
            "image/png": "[encoded data removed]"
          },
          "metadata": {}
        }
      ]
    },
    {
      "cell_type": "markdown",
      "source": [
        "write a program that shows a graph of MSE"
      ],
      "metadata": {
        "id": "32s1bEFgs3JG"
      }
    },
    {
      "cell_type": "code",
      "source": [
        "import os\n",
        "import cv2\n",
        "import numpy as np\n",
        "import matplotlib.pyplot as plt\n",
        "from sklearn.model_selection import train_test_split\n",
        "from tensorflow import keras\n",
        "from tensorflow.keras import layers\n",
        "\n",
        "# Function to load and preprocess images from a folder\n",
        "def load_and_preprocess(folder):\n",
        "    images = []\n",
        "    labels = []\n",
        "\n",
        "    for filename in os.listdir(folder):\n",
        "        file_path = os.path.join(folder, filename)\n",
        "\n",
        "        # Check if the file is an image\n",
        "        if filename.endswith(\".jpg\"):\n",
        "            # Read the image\n",
        "            image = cv2.imread(file_path, cv2.IMREAD_GRAYSCALE)\n",
        "\n",
        "            # Normalize pixel values between 0 and 1\n",
        "            normalized_image = image / 255.0\n",
        "\n",
        "            images.append(normalized_image.flatten())  # Flatten the matrix to a vector\n",
        "            labels.append(1 if \"with_drone\" in folder else 0)\n",
        "\n",
        "    return np.array(images), np.array(labels)\n",
        "\n",
        "# Load and preprocess images from train and test folders\n",
        "train_images, train_labels = load_and_preprocess(\"/content/drive/MyDrive/train\")\n",
        "test_images, test_labels = load_and_preprocess(\"/content/drive/MyDrive/test\")\n",
        "\n",
        "# Split the data into train and validation sets\n",
        "train_images, val_images, train_labels, val_labels = train_test_split(\n",
        "    train_images, train_labels, test_size=0.15, random_state=42\n",
        ")\n",
        "\n",
        "# Build the neural network model\n",
        "model = keras.Sequential([\n",
        "    layers.Dense(16, activation='relu', input_shape=(train_images.shape[1],)),\n",
        "    layers.Dropout(0.5),\n",
        "    layers.Dense(1, activation='sigmoid')\n",
        "])\n",
        "\n",
        "# Compile the model\n",
        "model.compile(optimizer='adam', loss='mean_squared_error', metrics=['mse'])\n",
        "\n",
        "# Train the model and obtain history\n",
        "history = model.fit(train_images, train_labels, epochs=3, batch_size=8, validation_data=(val_images, val_labels))\n",
        "\n",
        "# Extract Mean Squared Error (MSE) values from the history object\n",
        "mse_values = history.history['mse']\n",
        "val_mse_values = history.history['val_mse']\n",
        "\n",
        "# Plot the MSE values over epochs\n",
        "plt.plot(range(1, len(mse_values) + 1), mse_values, label='Training MSE')\n",
        "plt.plot(range(1, len(val_mse_values) + 1), val_mse_values, label='Validation MSE')\n",
        "plt.title('Mean Squared Error Over Epochs')\n",
        "plt.xlabel('Epoch')\n",
        "plt.ylabel('MSE')\n",
        "plt.legend()\n",
        "plt.show()\n"
      ],
      "metadata": {
        "colab": {
          "base_uri": "https://localhost:8080/",
          "height": 600
        },
        "id": "B09CrdavreKt",
        "outputId": "c46df231-6e7b-4025-c702-f3e1b453749e"
      },
      "execution_count": 33,
      "outputs": [
        {
          "output_type": "stream",
          "name": "stdout",
          "text": [
            "Epoch 1/3\n",
            "90/90 [==============================] - 1s 4ms/step - loss: 0.0203 - mse: 0.0203 - val_loss: 4.3402e-04 - val_mse: 4.3402e-04\n",
            "Epoch 2/3\n",
            "90/90 [==============================] - 0s 4ms/step - loss: 0.0072 - mse: 0.0072 - val_loss: 2.9497e-04 - val_mse: 2.9497e-04\n",
            "Epoch 3/3\n",
            "90/90 [==============================] - 0s 3ms/step - loss: 0.0070 - mse: 0.0070 - val_loss: 2.2325e-04 - val_mse: 2.2325e-04\n"
          ]
        },
        {
          "output_type": "display_data",
          "data": {
            "text/plain": [
              "<Figure size 640x480 with 1 Axes>"
            ],
            "image/png": "[encoded data removed]"
          },
          "metadata": {}
        }
      ]
    }
  ]
}